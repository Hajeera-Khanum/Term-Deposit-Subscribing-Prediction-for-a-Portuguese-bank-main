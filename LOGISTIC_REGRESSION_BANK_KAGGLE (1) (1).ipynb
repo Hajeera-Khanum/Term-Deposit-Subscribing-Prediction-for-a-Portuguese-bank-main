{
 "cells": [
  {
   "cell_type": "markdown",
   "id": "792a3ef2",
   "metadata": {},
   "source": [
    "### IMPORTING REQUIRED LIBRARIES"
   ]
  },
  {
   "cell_type": "code",
   "execution_count": 4,
   "id": "8b7767ac",
   "metadata": {},
   "outputs": [],
   "source": [
    "import pandas as pd\n",
    "import numpy as np\n",
    "import seaborn as sns \n",
    "import matplotlib.pyplot as plt\n",
    "import math \n",
    "import warnings \n",
    "warnings.filterwarnings('ignore')\n",
    "from scipy import stats\n",
    "from statsmodels.stats.multicomp import pairwise_tukeyhsd\n",
    "from scipy.stats import pearsonr\n",
    "import statsmodels.api as sm"
   ]
  },
  {
   "cell_type": "code",
   "execution_count": 5,
   "id": "72fff309",
   "metadata": {},
   "outputs": [],
   "source": [
    "import warnings\n",
    "warnings.filterwarnings('ignore')"
   ]
  },
  {
   "cell_type": "markdown",
   "id": "5e9716af",
   "metadata": {},
   "source": [
    "### DATA"
   ]
  },
  {
   "cell_type": "code",
   "execution_count": 6,
   "id": "7dd48935",
   "metadata": {},
   "outputs": [
    {
     "data": {
      "text/html": [
       "<div>\n",
       "<style scoped>\n",
       "    .dataframe tbody tr th:only-of-type {\n",
       "        vertical-align: middle;\n",
       "    }\n",
       "\n",
       "    .dataframe tbody tr th {\n",
       "        vertical-align: top;\n",
       "    }\n",
       "\n",
       "    .dataframe thead th {\n",
       "        text-align: right;\n",
       "    }\n",
       "</style>\n",
       "<table border=\"1\" class=\"dataframe\">\n",
       "  <thead>\n",
       "    <tr style=\"text-align: right;\">\n",
       "      <th></th>\n",
       "      <th>age</th>\n",
       "      <th>job</th>\n",
       "      <th>marital</th>\n",
       "      <th>education</th>\n",
       "      <th>default</th>\n",
       "      <th>balance</th>\n",
       "      <th>housing</th>\n",
       "      <th>loan</th>\n",
       "      <th>contact</th>\n",
       "      <th>day</th>\n",
       "      <th>month</th>\n",
       "      <th>duration</th>\n",
       "      <th>campaign</th>\n",
       "      <th>pdays</th>\n",
       "      <th>previous</th>\n",
       "      <th>poutcome</th>\n",
       "      <th>deposit</th>\n",
       "    </tr>\n",
       "  </thead>\n",
       "  <tbody>\n",
       "    <tr>\n",
       "      <th>0</th>\n",
       "      <td>59</td>\n",
       "      <td>admin.</td>\n",
       "      <td>married</td>\n",
       "      <td>secondary</td>\n",
       "      <td>no</td>\n",
       "      <td>2343</td>\n",
       "      <td>yes</td>\n",
       "      <td>no</td>\n",
       "      <td>unknown</td>\n",
       "      <td>5</td>\n",
       "      <td>may</td>\n",
       "      <td>1042</td>\n",
       "      <td>1</td>\n",
       "      <td>-1</td>\n",
       "      <td>0</td>\n",
       "      <td>unknown</td>\n",
       "      <td>yes</td>\n",
       "    </tr>\n",
       "    <tr>\n",
       "      <th>1</th>\n",
       "      <td>56</td>\n",
       "      <td>admin.</td>\n",
       "      <td>married</td>\n",
       "      <td>secondary</td>\n",
       "      <td>no</td>\n",
       "      <td>45</td>\n",
       "      <td>no</td>\n",
       "      <td>no</td>\n",
       "      <td>unknown</td>\n",
       "      <td>5</td>\n",
       "      <td>may</td>\n",
       "      <td>1467</td>\n",
       "      <td>1</td>\n",
       "      <td>-1</td>\n",
       "      <td>0</td>\n",
       "      <td>unknown</td>\n",
       "      <td>yes</td>\n",
       "    </tr>\n",
       "    <tr>\n",
       "      <th>2</th>\n",
       "      <td>41</td>\n",
       "      <td>technician</td>\n",
       "      <td>married</td>\n",
       "      <td>secondary</td>\n",
       "      <td>no</td>\n",
       "      <td>1270</td>\n",
       "      <td>yes</td>\n",
       "      <td>no</td>\n",
       "      <td>unknown</td>\n",
       "      <td>5</td>\n",
       "      <td>may</td>\n",
       "      <td>1389</td>\n",
       "      <td>1</td>\n",
       "      <td>-1</td>\n",
       "      <td>0</td>\n",
       "      <td>unknown</td>\n",
       "      <td>yes</td>\n",
       "    </tr>\n",
       "    <tr>\n",
       "      <th>3</th>\n",
       "      <td>55</td>\n",
       "      <td>services</td>\n",
       "      <td>married</td>\n",
       "      <td>secondary</td>\n",
       "      <td>no</td>\n",
       "      <td>2476</td>\n",
       "      <td>yes</td>\n",
       "      <td>no</td>\n",
       "      <td>unknown</td>\n",
       "      <td>5</td>\n",
       "      <td>may</td>\n",
       "      <td>579</td>\n",
       "      <td>1</td>\n",
       "      <td>-1</td>\n",
       "      <td>0</td>\n",
       "      <td>unknown</td>\n",
       "      <td>yes</td>\n",
       "    </tr>\n",
       "    <tr>\n",
       "      <th>4</th>\n",
       "      <td>54</td>\n",
       "      <td>admin.</td>\n",
       "      <td>married</td>\n",
       "      <td>tertiary</td>\n",
       "      <td>no</td>\n",
       "      <td>184</td>\n",
       "      <td>no</td>\n",
       "      <td>no</td>\n",
       "      <td>unknown</td>\n",
       "      <td>5</td>\n",
       "      <td>may</td>\n",
       "      <td>673</td>\n",
       "      <td>2</td>\n",
       "      <td>-1</td>\n",
       "      <td>0</td>\n",
       "      <td>unknown</td>\n",
       "      <td>yes</td>\n",
       "    </tr>\n",
       "    <tr>\n",
       "      <th>...</th>\n",
       "      <td>...</td>\n",
       "      <td>...</td>\n",
       "      <td>...</td>\n",
       "      <td>...</td>\n",
       "      <td>...</td>\n",
       "      <td>...</td>\n",
       "      <td>...</td>\n",
       "      <td>...</td>\n",
       "      <td>...</td>\n",
       "      <td>...</td>\n",
       "      <td>...</td>\n",
       "      <td>...</td>\n",
       "      <td>...</td>\n",
       "      <td>...</td>\n",
       "      <td>...</td>\n",
       "      <td>...</td>\n",
       "      <td>...</td>\n",
       "    </tr>\n",
       "    <tr>\n",
       "      <th>11157</th>\n",
       "      <td>33</td>\n",
       "      <td>blue-collar</td>\n",
       "      <td>single</td>\n",
       "      <td>primary</td>\n",
       "      <td>no</td>\n",
       "      <td>1</td>\n",
       "      <td>yes</td>\n",
       "      <td>no</td>\n",
       "      <td>cellular</td>\n",
       "      <td>20</td>\n",
       "      <td>apr</td>\n",
       "      <td>257</td>\n",
       "      <td>1</td>\n",
       "      <td>-1</td>\n",
       "      <td>0</td>\n",
       "      <td>unknown</td>\n",
       "      <td>no</td>\n",
       "    </tr>\n",
       "    <tr>\n",
       "      <th>11158</th>\n",
       "      <td>39</td>\n",
       "      <td>services</td>\n",
       "      <td>married</td>\n",
       "      <td>secondary</td>\n",
       "      <td>no</td>\n",
       "      <td>733</td>\n",
       "      <td>no</td>\n",
       "      <td>no</td>\n",
       "      <td>unknown</td>\n",
       "      <td>16</td>\n",
       "      <td>jun</td>\n",
       "      <td>83</td>\n",
       "      <td>4</td>\n",
       "      <td>-1</td>\n",
       "      <td>0</td>\n",
       "      <td>unknown</td>\n",
       "      <td>no</td>\n",
       "    </tr>\n",
       "    <tr>\n",
       "      <th>11159</th>\n",
       "      <td>32</td>\n",
       "      <td>technician</td>\n",
       "      <td>single</td>\n",
       "      <td>secondary</td>\n",
       "      <td>no</td>\n",
       "      <td>29</td>\n",
       "      <td>no</td>\n",
       "      <td>no</td>\n",
       "      <td>cellular</td>\n",
       "      <td>19</td>\n",
       "      <td>aug</td>\n",
       "      <td>156</td>\n",
       "      <td>2</td>\n",
       "      <td>-1</td>\n",
       "      <td>0</td>\n",
       "      <td>unknown</td>\n",
       "      <td>no</td>\n",
       "    </tr>\n",
       "    <tr>\n",
       "      <th>11160</th>\n",
       "      <td>43</td>\n",
       "      <td>technician</td>\n",
       "      <td>married</td>\n",
       "      <td>secondary</td>\n",
       "      <td>no</td>\n",
       "      <td>0</td>\n",
       "      <td>no</td>\n",
       "      <td>yes</td>\n",
       "      <td>cellular</td>\n",
       "      <td>8</td>\n",
       "      <td>may</td>\n",
       "      <td>9</td>\n",
       "      <td>2</td>\n",
       "      <td>172</td>\n",
       "      <td>5</td>\n",
       "      <td>failure</td>\n",
       "      <td>no</td>\n",
       "    </tr>\n",
       "    <tr>\n",
       "      <th>11161</th>\n",
       "      <td>34</td>\n",
       "      <td>technician</td>\n",
       "      <td>married</td>\n",
       "      <td>secondary</td>\n",
       "      <td>no</td>\n",
       "      <td>0</td>\n",
       "      <td>no</td>\n",
       "      <td>no</td>\n",
       "      <td>cellular</td>\n",
       "      <td>9</td>\n",
       "      <td>jul</td>\n",
       "      <td>628</td>\n",
       "      <td>1</td>\n",
       "      <td>-1</td>\n",
       "      <td>0</td>\n",
       "      <td>unknown</td>\n",
       "      <td>no</td>\n",
       "    </tr>\n",
       "  </tbody>\n",
       "</table>\n",
       "<p>11162 rows × 17 columns</p>\n",
       "</div>"
      ],
      "text/plain": [
       "       age          job  marital  education default  balance housing loan  \\\n",
       "0       59       admin.  married  secondary      no     2343     yes   no   \n",
       "1       56       admin.  married  secondary      no       45      no   no   \n",
       "2       41   technician  married  secondary      no     1270     yes   no   \n",
       "3       55     services  married  secondary      no     2476     yes   no   \n",
       "4       54       admin.  married   tertiary      no      184      no   no   \n",
       "...    ...          ...      ...        ...     ...      ...     ...  ...   \n",
       "11157   33  blue-collar   single    primary      no        1     yes   no   \n",
       "11158   39     services  married  secondary      no      733      no   no   \n",
       "11159   32   technician   single  secondary      no       29      no   no   \n",
       "11160   43   technician  married  secondary      no        0      no  yes   \n",
       "11161   34   technician  married  secondary      no        0      no   no   \n",
       "\n",
       "        contact  day month  duration  campaign  pdays  previous poutcome  \\\n",
       "0       unknown    5   may      1042         1     -1         0  unknown   \n",
       "1       unknown    5   may      1467         1     -1         0  unknown   \n",
       "2       unknown    5   may      1389         1     -1         0  unknown   \n",
       "3       unknown    5   may       579         1     -1         0  unknown   \n",
       "4       unknown    5   may       673         2     -1         0  unknown   \n",
       "...         ...  ...   ...       ...       ...    ...       ...      ...   \n",
       "11157  cellular   20   apr       257         1     -1         0  unknown   \n",
       "11158   unknown   16   jun        83         4     -1         0  unknown   \n",
       "11159  cellular   19   aug       156         2     -1         0  unknown   \n",
       "11160  cellular    8   may         9         2    172         5  failure   \n",
       "11161  cellular    9   jul       628         1     -1         0  unknown   \n",
       "\n",
       "      deposit  \n",
       "0         yes  \n",
       "1         yes  \n",
       "2         yes  \n",
       "3         yes  \n",
       "4         yes  \n",
       "...       ...  \n",
       "11157      no  \n",
       "11158      no  \n",
       "11159      no  \n",
       "11160      no  \n",
       "11161      no  \n",
       "\n",
       "[11162 rows x 17 columns]"
      ]
     },
     "execution_count": 6,
     "metadata": {},
     "output_type": "execute_result"
    }
   ],
   "source": [
    "df = pd.read_csv(r'C:\\Users\\SAIFULLA SHARIEF\\Desktop\\MY PROJECTS\\BANK - LOGISTIC REGRESSION\\bank.csv')\n",
    "df"
   ]
  },
  {
   "cell_type": "code",
   "execution_count": 7,
   "id": "882ef4a9",
   "metadata": {},
   "outputs": [
    {
     "name": "stdout",
     "output_type": "stream",
     "text": [
      "<class 'pandas.core.frame.DataFrame'>\n",
      "RangeIndex: 11162 entries, 0 to 11161\n",
      "Data columns (total 17 columns):\n",
      " #   Column     Non-Null Count  Dtype \n",
      "---  ------     --------------  ----- \n",
      " 0   age        11162 non-null  int64 \n",
      " 1   job        11162 non-null  object\n",
      " 2   marital    11162 non-null  object\n",
      " 3   education  11162 non-null  object\n",
      " 4   default    11162 non-null  object\n",
      " 5   balance    11162 non-null  int64 \n",
      " 6   housing    11162 non-null  object\n",
      " 7   loan       11162 non-null  object\n",
      " 8   contact    11162 non-null  object\n",
      " 9   day        11162 non-null  int64 \n",
      " 10  month      11162 non-null  object\n",
      " 11  duration   11162 non-null  int64 \n",
      " 12  campaign   11162 non-null  int64 \n",
      " 13  pdays      11162 non-null  int64 \n",
      " 14  previous   11162 non-null  int64 \n",
      " 15  poutcome   11162 non-null  object\n",
      " 16  deposit    11162 non-null  object\n",
      "dtypes: int64(7), object(10)\n",
      "memory usage: 1.4+ MB\n"
     ]
    }
   ],
   "source": [
    "df.info()"
   ]
  },
  {
   "cell_type": "code",
   "execution_count": 8,
   "id": "861ddb63",
   "metadata": {},
   "outputs": [
    {
     "data": {
      "text/html": [
       "<div>\n",
       "<style scoped>\n",
       "    .dataframe tbody tr th:only-of-type {\n",
       "        vertical-align: middle;\n",
       "    }\n",
       "\n",
       "    .dataframe tbody tr th {\n",
       "        vertical-align: top;\n",
       "    }\n",
       "\n",
       "    .dataframe thead th {\n",
       "        text-align: right;\n",
       "    }\n",
       "</style>\n",
       "<table border=\"1\" class=\"dataframe\">\n",
       "  <thead>\n",
       "    <tr style=\"text-align: right;\">\n",
       "      <th></th>\n",
       "      <th>age</th>\n",
       "      <th>balance</th>\n",
       "      <th>day</th>\n",
       "      <th>duration</th>\n",
       "      <th>campaign</th>\n",
       "      <th>pdays</th>\n",
       "      <th>previous</th>\n",
       "    </tr>\n",
       "  </thead>\n",
       "  <tbody>\n",
       "    <tr>\n",
       "      <th>count</th>\n",
       "      <td>11162.000000</td>\n",
       "      <td>11162.000000</td>\n",
       "      <td>11162.000000</td>\n",
       "      <td>11162.000000</td>\n",
       "      <td>11162.000000</td>\n",
       "      <td>11162.000000</td>\n",
       "      <td>11162.000000</td>\n",
       "    </tr>\n",
       "    <tr>\n",
       "      <th>mean</th>\n",
       "      <td>41.231948</td>\n",
       "      <td>1528.538524</td>\n",
       "      <td>15.658036</td>\n",
       "      <td>371.993818</td>\n",
       "      <td>2.508421</td>\n",
       "      <td>51.330407</td>\n",
       "      <td>0.832557</td>\n",
       "    </tr>\n",
       "    <tr>\n",
       "      <th>std</th>\n",
       "      <td>11.913369</td>\n",
       "      <td>3225.413326</td>\n",
       "      <td>8.420740</td>\n",
       "      <td>347.128386</td>\n",
       "      <td>2.722077</td>\n",
       "      <td>108.758282</td>\n",
       "      <td>2.292007</td>\n",
       "    </tr>\n",
       "    <tr>\n",
       "      <th>min</th>\n",
       "      <td>18.000000</td>\n",
       "      <td>-6847.000000</td>\n",
       "      <td>1.000000</td>\n",
       "      <td>2.000000</td>\n",
       "      <td>1.000000</td>\n",
       "      <td>-1.000000</td>\n",
       "      <td>0.000000</td>\n",
       "    </tr>\n",
       "    <tr>\n",
       "      <th>25%</th>\n",
       "      <td>32.000000</td>\n",
       "      <td>122.000000</td>\n",
       "      <td>8.000000</td>\n",
       "      <td>138.000000</td>\n",
       "      <td>1.000000</td>\n",
       "      <td>-1.000000</td>\n",
       "      <td>0.000000</td>\n",
       "    </tr>\n",
       "    <tr>\n",
       "      <th>50%</th>\n",
       "      <td>39.000000</td>\n",
       "      <td>550.000000</td>\n",
       "      <td>15.000000</td>\n",
       "      <td>255.000000</td>\n",
       "      <td>2.000000</td>\n",
       "      <td>-1.000000</td>\n",
       "      <td>0.000000</td>\n",
       "    </tr>\n",
       "    <tr>\n",
       "      <th>75%</th>\n",
       "      <td>49.000000</td>\n",
       "      <td>1708.000000</td>\n",
       "      <td>22.000000</td>\n",
       "      <td>496.000000</td>\n",
       "      <td>3.000000</td>\n",
       "      <td>20.750000</td>\n",
       "      <td>1.000000</td>\n",
       "    </tr>\n",
       "    <tr>\n",
       "      <th>max</th>\n",
       "      <td>95.000000</td>\n",
       "      <td>81204.000000</td>\n",
       "      <td>31.000000</td>\n",
       "      <td>3881.000000</td>\n",
       "      <td>63.000000</td>\n",
       "      <td>854.000000</td>\n",
       "      <td>58.000000</td>\n",
       "    </tr>\n",
       "  </tbody>\n",
       "</table>\n",
       "</div>"
      ],
      "text/plain": [
       "                age       balance           day      duration      campaign  \\\n",
       "count  11162.000000  11162.000000  11162.000000  11162.000000  11162.000000   \n",
       "mean      41.231948   1528.538524     15.658036    371.993818      2.508421   \n",
       "std       11.913369   3225.413326      8.420740    347.128386      2.722077   \n",
       "min       18.000000  -6847.000000      1.000000      2.000000      1.000000   \n",
       "25%       32.000000    122.000000      8.000000    138.000000      1.000000   \n",
       "50%       39.000000    550.000000     15.000000    255.000000      2.000000   \n",
       "75%       49.000000   1708.000000     22.000000    496.000000      3.000000   \n",
       "max       95.000000  81204.000000     31.000000   3881.000000     63.000000   \n",
       "\n",
       "              pdays      previous  \n",
       "count  11162.000000  11162.000000  \n",
       "mean      51.330407      0.832557  \n",
       "std      108.758282      2.292007  \n",
       "min       -1.000000      0.000000  \n",
       "25%       -1.000000      0.000000  \n",
       "50%       -1.000000      0.000000  \n",
       "75%       20.750000      1.000000  \n",
       "max      854.000000     58.000000  "
      ]
     },
     "execution_count": 8,
     "metadata": {},
     "output_type": "execute_result"
    }
   ],
   "source": [
    "df.describe()"
   ]
  },
  {
   "cell_type": "code",
   "execution_count": 9,
   "id": "eedc3aae",
   "metadata": {},
   "outputs": [
    {
     "data": {
      "text/plain": [
       "0"
      ]
     },
     "execution_count": 9,
     "metadata": {},
     "output_type": "execute_result"
    }
   ],
   "source": [
    "df.isnull().sum().sum()"
   ]
  },
  {
   "cell_type": "markdown",
   "id": "0119b627",
   "metadata": {},
   "source": [
    "* No Null values in dataframe"
   ]
  },
  {
   "cell_type": "code",
   "execution_count": 10,
   "id": "231c1f33",
   "metadata": {},
   "outputs": [
    {
     "data": {
      "text/plain": [
       "Index(['age', 'job', 'marital', 'education', 'default', 'balance', 'housing',\n",
       "       'loan', 'contact', 'day', 'month', 'duration', 'campaign', 'pdays',\n",
       "       'previous', 'poutcome', 'deposit'],\n",
       "      dtype='object')"
      ]
     },
     "execution_count": 10,
     "metadata": {},
     "output_type": "execute_result"
    }
   ],
   "source": [
    "df.columns"
   ]
  },
  {
   "cell_type": "markdown",
   "id": "e334f15f",
   "metadata": {},
   "source": [
    "### Heat Map for null values"
   ]
  },
  {
   "cell_type": "code",
   "execution_count": 11,
   "id": "ee530bbc",
   "metadata": {},
   "outputs": [
    {
     "data": {
      "text/plain": [
       "<AxesSubplot:>"
      ]
     },
     "execution_count": 11,
     "metadata": {},
     "output_type": "execute_result"
    },
    {
     "data": {
      "image/png": "[encoded data removed]",
      "text/plain": [
       "<Figure size 432x288 with 2 Axes>"
      ]
     },
     "metadata": {
      "needs_background": "light"
     },
     "output_type": "display_data"
    }
   ],
   "source": [
    "sns.heatmap(df.isnull(), cmap = 'Greys_r')"
   ]
  },
  {
   "cell_type": "markdown",
   "id": "11515995",
   "metadata": {},
   "source": [
    "### TARGET VARIABLE : DEPOSIT (Categorical)"
   ]
  },
  {
   "cell_type": "code",
   "execution_count": 12,
   "id": "0c3ee8ae",
   "metadata": {},
   "outputs": [
    {
     "data": {
      "text/plain": [
       "no     5873\n",
       "yes    5289\n",
       "Name: deposit, dtype: int64"
      ]
     },
     "execution_count": 12,
     "metadata": {},
     "output_type": "execute_result"
    }
   ],
   "source": [
    "df.deposit.value_counts()"
   ]
  },
  {
   "cell_type": "code",
   "execution_count": 13,
   "id": "d21f68f4",
   "metadata": {},
   "outputs": [
    {
     "data": {
      "text/plain": [
       "11162"
      ]
     },
     "execution_count": 13,
     "metadata": {},
     "output_type": "execute_result"
    }
   ],
   "source": [
    "df.deposit.value_counts().sum()"
   ]
  },
  {
   "cell_type": "code",
   "execution_count": 14,
   "id": "d8e862a4",
   "metadata": {},
   "outputs": [
    {
     "data": {
      "text/plain": [
       "count     11162\n",
       "unique        2\n",
       "top          no\n",
       "freq       5873\n",
       "Name: deposit, dtype: object"
      ]
     },
     "execution_count": 14,
     "metadata": {},
     "output_type": "execute_result"
    }
   ],
   "source": [
    "df.deposit.describe()"
   ]
  },
  {
   "cell_type": "markdown",
   "id": "5ff0d79a",
   "metadata": {},
   "source": [
    "* Converting Object type dtype to int64"
   ]
  },
  {
   "cell_type": "markdown",
   "id": "d8c80849",
   "metadata": {},
   "source": [
    "* Replacing 'no' with 0 and 'yes' with 1"
   ]
  },
  {
   "cell_type": "code",
   "execution_count": 15,
   "id": "2ffb5343",
   "metadata": {},
   "outputs": [],
   "source": [
    "df.deposit.replace(to_replace=['no', 'yes'], value=[0, 1],inplace = True)"
   ]
  },
  {
   "cell_type": "code",
   "execution_count": 16,
   "id": "316747ad",
   "metadata": {},
   "outputs": [
    {
     "data": {
      "text/plain": [
       "0    5873\n",
       "1    5289\n",
       "Name: deposit, dtype: int64"
      ]
     },
     "execution_count": 16,
     "metadata": {},
     "output_type": "execute_result"
    }
   ],
   "source": [
    "df.deposit.value_counts()"
   ]
  },
  {
   "cell_type": "code",
   "execution_count": 17,
   "id": "d56c45a0",
   "metadata": {},
   "outputs": [
    {
     "data": {
      "image/png": "[encoded data removed]",
      "text/plain": [
       "<Figure size 432x288 with 1 Axes>"
      ]
     },
     "metadata": {
      "needs_background": "light"
     },
     "output_type": "display_data"
    }
   ],
   "source": [
    "sns.countplot(df.deposit,palette='Dark2')\n",
    "plt.title('Count of deposit', color = 'r')\n",
    "plt.xlabel('Deposit', color = 'r')\n",
    "plt.ylabel('Count', color = 'r')\n",
    "plt.show()"
   ]
  },
  {
   "cell_type": "markdown",
   "id": "5b54a6ac",
   "metadata": {},
   "source": [
    "### PREDICTORS"
   ]
  },
  {
   "cell_type": "markdown",
   "id": "0076e784",
   "metadata": {},
   "source": [
    "### 1 . AGE (continous)"
   ]
  },
  {
   "cell_type": "code",
   "execution_count": 18,
   "id": "0dd2c96e",
   "metadata": {},
   "outputs": [
    {
     "data": {
      "text/plain": [
       "11162"
      ]
     },
     "execution_count": 18,
     "metadata": {},
     "output_type": "execute_result"
    }
   ],
   "source": [
    "df.age.value_counts().sum()"
   ]
  },
  {
   "cell_type": "code",
   "execution_count": 19,
   "id": "eef4cdc6",
   "metadata": {},
   "outputs": [
    {
     "data": {
      "image/png": "[encoded data removed]",
      "text/plain": [
       "<Figure size 432x288 with 1 Axes>"
      ]
     },
     "metadata": {
      "needs_background": "light"
     },
     "output_type": "display_data"
    }
   ],
   "source": [
    "sns.distplot(df.age, color = 'blue')\n",
    "plt.title('Distribution of Age', color = 'r')\n",
    "plt.xlabel('Age', color = 'r')\n",
    "plt.ylabel('Density', color = 'r')\n",
    "plt.show()"
   ]
  },
  {
   "cell_type": "code",
   "execution_count": 20,
   "id": "378ef83b",
   "metadata": {},
   "outputs": [
    {
     "data": {
      "image/png": "[encoded data removed]",
      "text/plain": [
       "<Figure size 432x288 with 1 Axes>"
      ]
     },
     "metadata": {
      "needs_background": "light"
     },
     "output_type": "display_data"
    }
   ],
   "source": [
    "sns.boxplot(df.age, color = 'g')\n",
    "plt.xlabel('Age', color = 'red')\n",
    "plt.title('Boxplot of Age', color = 'r')\n",
    "plt.xticks(rotation = '45', color = 'blue')\n",
    "plt.grid()\n",
    "plt.show()"
   ]
  },
  {
   "cell_type": "code",
   "execution_count": 21,
   "id": "969557c3",
   "metadata": {},
   "outputs": [
    {
     "data": {
      "text/plain": [
       "deposit\n",
       "0    41.0\n",
       "1    42.0\n",
       "Name: age, dtype: float64"
      ]
     },
     "execution_count": 21,
     "metadata": {},
     "output_type": "execute_result"
    }
   ],
   "source": [
    "round(df.age.groupby(df.deposit).mean())"
   ]
  },
  {
   "cell_type": "code",
   "execution_count": 22,
   "id": "83bcdc51",
   "metadata": {},
   "outputs": [
    {
     "data": {
      "image/png": "[encoded data removed]",
      "text/plain": [
       "<Figure size 432x288 with 1 Axes>"
      ]
     },
     "metadata": {
      "needs_background": "light"
     },
     "output_type": "display_data"
    }
   ],
   "source": [
    "sns.boxplot(x= 'deposit', y = 'age', data = df)\n",
    "plt.title('Deposit vs Age', color = 'r')\n",
    "plt.xlabel('Deposit', color ='r')\n",
    "plt.ylabel('age', color = 'r')\n",
    "plt.show()"
   ]
  },
  {
   "cell_type": "code",
   "execution_count": 23,
   "id": "5a12f62b",
   "metadata": {},
   "outputs": [
    {
     "data": {
      "image/png": "[encoded data removed]",
      "text/plain": [
       "<Figure size 360x360 with 1 Axes>"
      ]
     },
     "metadata": {
      "needs_background": "light"
     },
     "output_type": "display_data"
    }
   ],
   "source": [
    "sns.catplot(x= 'deposit', y = 'age', kind = 'swarm', data = df)\n",
    "plt.title('Deposit vs Age', color = 'r')\n",
    "plt.xlabel('Deposit', color ='r')\n",
    "plt.ylabel('age', color = 'r')\n",
    "plt.show()"
   ]
  },
  {
   "cell_type": "code",
   "execution_count": 24,
   "id": "5d0d82ee",
   "metadata": {},
   "outputs": [],
   "source": [
    "import statsmodels.api as sm"
   ]
  },
  {
   "cell_type": "code",
   "execution_count": 25,
   "id": "536d18d1",
   "metadata": {},
   "outputs": [
    {
     "data": {
      "text/html": [
       "<div>\n",
       "<style scoped>\n",
       "    .dataframe tbody tr th:only-of-type {\n",
       "        vertical-align: middle;\n",
       "    }\n",
       "\n",
       "    .dataframe tbody tr th {\n",
       "        vertical-align: top;\n",
       "    }\n",
       "\n",
       "    .dataframe thead th {\n",
       "        text-align: right;\n",
       "    }\n",
       "</style>\n",
       "<table border=\"1\" class=\"dataframe\">\n",
       "  <thead>\n",
       "    <tr style=\"text-align: right;\">\n",
       "      <th></th>\n",
       "      <th>df</th>\n",
       "      <th>sum_sq</th>\n",
       "      <th>mean_sq</th>\n",
       "      <th>F</th>\n",
       "      <th>PR(&gt;F)</th>\n",
       "    </tr>\n",
       "  </thead>\n",
       "  <tbody>\n",
       "    <tr>\n",
       "      <th>age</th>\n",
       "      <td>1.0</td>\n",
       "      <td>3.389733</td>\n",
       "      <td>3.389733</td>\n",
       "      <td>13.610293</td>\n",
       "      <td>0.000226</td>\n",
       "    </tr>\n",
       "    <tr>\n",
       "      <th>Residual</th>\n",
       "      <td>11160.0</td>\n",
       "      <td>2779.471493</td>\n",
       "      <td>0.249057</td>\n",
       "      <td>NaN</td>\n",
       "      <td>NaN</td>\n",
       "    </tr>\n",
       "  </tbody>\n",
       "</table>\n",
       "</div>"
      ],
      "text/plain": [
       "               df       sum_sq   mean_sq          F    PR(>F)\n",
       "age           1.0     3.389733  3.389733  13.610293  0.000226\n",
       "Residual  11160.0  2779.471493  0.249057        NaN       NaN"
      ]
     },
     "execution_count": 25,
     "metadata": {},
     "output_type": "execute_result"
    }
   ],
   "source": [
    "from statsmodels.formula.api import ols\n",
    "mod = ols('deposit ~ age', data = df).fit()\n",
    "sm.stats.anova_lm(mod)"
   ]
  },
  {
   "cell_type": "markdown",
   "id": "7a4c5a44",
   "metadata": {},
   "source": [
    "* May be Age is a good predictor"
   ]
  },
  {
   "cell_type": "markdown",
   "id": "f1e39421",
   "metadata": {},
   "source": [
    "### 2. JOB ( Categorical)"
   ]
  },
  {
   "cell_type": "code",
   "execution_count": 26,
   "id": "d1369aba",
   "metadata": {},
   "outputs": [
    {
     "data": {
      "text/plain": [
       "management       2566\n",
       "blue-collar      1944\n",
       "technician       1823\n",
       "admin.           1334\n",
       "services          923\n",
       "retired           778\n",
       "self-employed     405\n",
       "student           360\n",
       "unemployed        357\n",
       "entrepreneur      328\n",
       "housemaid         274\n",
       "unknown            70\n",
       "Name: job, dtype: int64"
      ]
     },
     "execution_count": 26,
     "metadata": {},
     "output_type": "execute_result"
    }
   ],
   "source": [
    "df.job.value_counts()"
   ]
  },
  {
   "cell_type": "code",
   "execution_count": 27,
   "id": "9ceaf873",
   "metadata": {},
   "outputs": [
    {
     "data": {
      "image/png": "[encoded data removed]",
      "text/plain": [
       "<Figure size 432x288 with 1 Axes>"
      ]
     },
     "metadata": {
      "needs_background": "light"
     },
     "output_type": "display_data"
    }
   ],
   "source": [
    "sns.countplot(df.job, palette = 'bright')\n",
    "plt.title(\"Count of Jobs\",color = 'r')\n",
    "plt.xlabel('Jobs', color = 'r')\n",
    "plt.ylabel('Count', color = 'r')\n",
    "plt.xticks(rotation = 90, color = 'b')\n",
    "plt.show()"
   ]
  },
  {
   "cell_type": "code",
   "execution_count": 28,
   "id": "ce3b426f",
   "metadata": {},
   "outputs": [
    {
     "data": {
      "image/png": "[encoded data removed]",
      "text/plain": [
       "<Figure size 432x288 with 1 Axes>"
      ]
     },
     "metadata": {
      "needs_background": "light"
     },
     "output_type": "display_data"
    }
   ],
   "source": [
    "sns.countplot(df.job, hue = df.deposit,palette = 'bright')\n",
    "plt.title(\"Count of Jobs\",color = 'r')\n",
    "plt.xlabel('Jobs', color = 'r')\n",
    "plt.ylabel('Count', color = 'r')\n",
    "plt.xticks(rotation = 90, color = 'b')\n",
    "plt.show()"
   ]
  },
  {
   "cell_type": "code",
   "execution_count": 29,
   "id": "effebe30",
   "metadata": {},
   "outputs": [],
   "source": [
    "from scipy.stats import chi2, chi2_contingency"
   ]
  },
  {
   "cell_type": "code",
   "execution_count": 30,
   "id": "f7bdac8e",
   "metadata": {},
   "outputs": [
    {
     "data": {
      "text/html": [
       "<div>\n",
       "<style scoped>\n",
       "    .dataframe tbody tr th:only-of-type {\n",
       "        vertical-align: middle;\n",
       "    }\n",
       "\n",
       "    .dataframe tbody tr th {\n",
       "        vertical-align: top;\n",
       "    }\n",
       "\n",
       "    .dataframe thead th {\n",
       "        text-align: right;\n",
       "    }\n",
       "</style>\n",
       "<table border=\"1\" class=\"dataframe\">\n",
       "  <thead>\n",
       "    <tr style=\"text-align: right;\">\n",
       "      <th>deposit</th>\n",
       "      <th>0</th>\n",
       "      <th>1</th>\n",
       "    </tr>\n",
       "    <tr>\n",
       "      <th>job</th>\n",
       "      <th></th>\n",
       "      <th></th>\n",
       "    </tr>\n",
       "  </thead>\n",
       "  <tbody>\n",
       "    <tr>\n",
       "      <th>admin.</th>\n",
       "      <td>703</td>\n",
       "      <td>631</td>\n",
       "    </tr>\n",
       "    <tr>\n",
       "      <th>blue-collar</th>\n",
       "      <td>1236</td>\n",
       "      <td>708</td>\n",
       "    </tr>\n",
       "    <tr>\n",
       "      <th>entrepreneur</th>\n",
       "      <td>205</td>\n",
       "      <td>123</td>\n",
       "    </tr>\n",
       "    <tr>\n",
       "      <th>housemaid</th>\n",
       "      <td>165</td>\n",
       "      <td>109</td>\n",
       "    </tr>\n",
       "    <tr>\n",
       "      <th>management</th>\n",
       "      <td>1265</td>\n",
       "      <td>1301</td>\n",
       "    </tr>\n",
       "    <tr>\n",
       "      <th>retired</th>\n",
       "      <td>262</td>\n",
       "      <td>516</td>\n",
       "    </tr>\n",
       "    <tr>\n",
       "      <th>self-employed</th>\n",
       "      <td>218</td>\n",
       "      <td>187</td>\n",
       "    </tr>\n",
       "    <tr>\n",
       "      <th>services</th>\n",
       "      <td>554</td>\n",
       "      <td>369</td>\n",
       "    </tr>\n",
       "    <tr>\n",
       "      <th>student</th>\n",
       "      <td>91</td>\n",
       "      <td>269</td>\n",
       "    </tr>\n",
       "    <tr>\n",
       "      <th>technician</th>\n",
       "      <td>983</td>\n",
       "      <td>840</td>\n",
       "    </tr>\n",
       "    <tr>\n",
       "      <th>unemployed</th>\n",
       "      <td>155</td>\n",
       "      <td>202</td>\n",
       "    </tr>\n",
       "    <tr>\n",
       "      <th>unknown</th>\n",
       "      <td>36</td>\n",
       "      <td>34</td>\n",
       "    </tr>\n",
       "  </tbody>\n",
       "</table>\n",
       "</div>"
      ],
      "text/plain": [
       "deposit           0     1\n",
       "job                      \n",
       "admin.          703   631\n",
       "blue-collar    1236   708\n",
       "entrepreneur    205   123\n",
       "housemaid       165   109\n",
       "management     1265  1301\n",
       "retired         262   516\n",
       "self-employed   218   187\n",
       "services        554   369\n",
       "student          91   269\n",
       "technician      983   840\n",
       "unemployed      155   202\n",
       "unknown          36    34"
      ]
     },
     "execution_count": 30,
     "metadata": {},
     "output_type": "execute_result"
    }
   ],
   "source": [
    "cross_tab = pd.crosstab(df.job, df.deposit)\n",
    "cross_tab"
   ]
  },
  {
   "cell_type": "code",
   "execution_count": 31,
   "id": "9b3c3d37",
   "metadata": {},
   "outputs": [
    {
     "data": {
      "text/plain": [
       "(378.0752558664989,\n",
       " 2.741689587081072e-74,\n",
       " 11,\n",
       " array([[ 701.89768859,  632.10231141],\n",
       "        [1022.85540226,  921.14459774],\n",
       "        [ 172.58054112,  155.41945888],\n",
       "        [ 144.16789106,  129.83210894],\n",
       "        [1350.12703817, 1215.87296183],\n",
       "        [ 409.35262498,  368.64737502],\n",
       "        [ 213.09487547,  191.90512453],\n",
       "        [ 485.645852  ,  437.354148  ],\n",
       "        [ 189.41766708,  170.58233292],\n",
       "        [ 959.19001971,  863.80998029],\n",
       "        [ 187.83918653,  169.16081347],\n",
       "        [  36.83121304,   33.16878696]]))"
      ]
     },
     "execution_count": 31,
     "metadata": {},
     "output_type": "execute_result"
    }
   ],
   "source": [
    "chi2_contingency(cross_tab, correction=False)"
   ]
  },
  {
   "cell_type": "markdown",
   "id": "13b5f481",
   "metadata": {},
   "source": [
    "* May be a Good predictor"
   ]
  },
  {
   "cell_type": "markdown",
   "id": "20c807dc",
   "metadata": {},
   "source": [
    "### 3. MARITAL ( Categorical)"
   ]
  },
  {
   "cell_type": "code",
   "execution_count": 32,
   "id": "d03f3a58",
   "metadata": {},
   "outputs": [
    {
     "data": {
      "text/plain": [
       "married     6351\n",
       "single      3518\n",
       "divorced    1293\n",
       "Name: marital, dtype: int64"
      ]
     },
     "execution_count": 32,
     "metadata": {},
     "output_type": "execute_result"
    }
   ],
   "source": [
    "df.marital.value_counts()"
   ]
  },
  {
   "cell_type": "code",
   "execution_count": 33,
   "id": "b0fae7f1",
   "metadata": {},
   "outputs": [
    {
     "data": {
      "image/png": "[encoded data removed]",
      "text/plain": [
       "<Figure size 432x288 with 1 Axes>"
      ]
     },
     "metadata": {
      "needs_background": "light"
     },
     "output_type": "display_data"
    }
   ],
   "source": [
    "sns.countplot(df.marital, palette = 'Dark2')\n",
    "plt.title(\"Marital Status Vs count\",color = 'r')\n",
    "plt.xlabel('Marital Status', color = 'r')\n",
    "plt.ylabel('Count', color = 'r')\n",
    "plt.xticks(rotation = 0, color = 'b')\n",
    "plt.yticks(color = 'b')\n",
    "plt.show()"
   ]
  },
  {
   "cell_type": "code",
   "execution_count": 34,
   "id": "66cdb5eb",
   "metadata": {},
   "outputs": [
    {
     "data": {
      "image/png": "[encoded data removed]",
      "text/plain": [
       "<Figure size 432x288 with 1 Axes>"
      ]
     },
     "metadata": {
      "needs_background": "light"
     },
     "output_type": "display_data"
    }
   ],
   "source": [
    "sns.countplot(df.marital, hue = df.deposit,palette = 'bright')\n",
    "plt.title(\"Marital Status Vs count\",color = 'r')\n",
    "plt.xlabel('marital status', color = 'r')\n",
    "plt.ylabel('Count', color = 'r')\n",
    "plt.show()"
   ]
  },
  {
   "cell_type": "code",
   "execution_count": 35,
   "id": "85f84617",
   "metadata": {},
   "outputs": [],
   "source": [
    "from scipy.stats import chi2, chi2_contingency"
   ]
  },
  {
   "cell_type": "code",
   "execution_count": 36,
   "id": "41366fe4",
   "metadata": {},
   "outputs": [
    {
     "data": {
      "text/html": [
       "<div>\n",
       "<style scoped>\n",
       "    .dataframe tbody tr th:only-of-type {\n",
       "        vertical-align: middle;\n",
       "    }\n",
       "\n",
       "    .dataframe tbody tr th {\n",
       "        vertical-align: top;\n",
       "    }\n",
       "\n",
       "    .dataframe thead th {\n",
       "        text-align: right;\n",
       "    }\n",
       "</style>\n",
       "<table border=\"1\" class=\"dataframe\">\n",
       "  <thead>\n",
       "    <tr style=\"text-align: right;\">\n",
       "      <th>deposit</th>\n",
       "      <th>0</th>\n",
       "      <th>1</th>\n",
       "    </tr>\n",
       "    <tr>\n",
       "      <th>marital</th>\n",
       "      <th></th>\n",
       "      <th></th>\n",
       "    </tr>\n",
       "  </thead>\n",
       "  <tbody>\n",
       "    <tr>\n",
       "      <th>divorced</th>\n",
       "      <td>671</td>\n",
       "      <td>622</td>\n",
       "    </tr>\n",
       "    <tr>\n",
       "      <th>married</th>\n",
       "      <td>3596</td>\n",
       "      <td>2755</td>\n",
       "    </tr>\n",
       "    <tr>\n",
       "      <th>single</th>\n",
       "      <td>1606</td>\n",
       "      <td>1912</td>\n",
       "    </tr>\n",
       "  </tbody>\n",
       "</table>\n",
       "</div>"
      ],
      "text/plain": [
       "deposit      0     1\n",
       "marital             \n",
       "divorced   671   622\n",
       "married   3596  2755\n",
       "single    1606  1912"
      ]
     },
     "execution_count": 36,
     "metadata": {},
     "output_type": "execute_result"
    }
   ],
   "source": [
    "m_crosstab = pd.crosstab(df.marital, df.deposit)\n",
    "m_crosstab"
   ]
  },
  {
   "cell_type": "code",
   "execution_count": 37,
   "id": "314bcce6",
   "metadata": {
    "scrolled": true
   },
   "outputs": [
    {
     "data": {
      "text/plain": [
       "(109.58335610012479,\n",
       " 1.600576988089358e-24,\n",
       " 2,\n",
       " array([[ 680.32512095,  612.67487905],\n",
       "        [3341.64334349, 3009.35665651],\n",
       "        [1851.03153557, 1666.96846443]]))"
      ]
     },
     "execution_count": 37,
     "metadata": {},
     "output_type": "execute_result"
    }
   ],
   "source": [
    "chi2_contingency(m_crosstab, correction=False)"
   ]
  },
  {
   "cell_type": "markdown",
   "id": "663ee863",
   "metadata": {},
   "source": [
    "* may be a good predictor"
   ]
  },
  {
   "cell_type": "markdown",
   "id": "8e8f9242",
   "metadata": {},
   "source": [
    "* replacing \n",
    "            'divorced' = 0,\n",
    "            'married' = 1,\n",
    "            'single' = 2\n",
    "    "
   ]
  },
  {
   "cell_type": "code",
   "execution_count": 38,
   "id": "dc79dce7",
   "metadata": {},
   "outputs": [],
   "source": [
    "df.marital.replace(to_replace = ['divorced', 'married', 'single'], value = [0,1,2], inplace = True)"
   ]
  },
  {
   "cell_type": "code",
   "execution_count": 39,
   "id": "8d1a30a2",
   "metadata": {},
   "outputs": [
    {
     "data": {
      "text/plain": [
       "1    6351\n",
       "2    3518\n",
       "0    1293\n",
       "Name: marital, dtype: int64"
      ]
     },
     "execution_count": 39,
     "metadata": {},
     "output_type": "execute_result"
    }
   ],
   "source": [
    "df.marital.value_counts()"
   ]
  },
  {
   "cell_type": "markdown",
   "id": "56e626b1",
   "metadata": {},
   "source": [
    "### 4. EDUCATION (Categorical)"
   ]
  },
  {
   "cell_type": "code",
   "execution_count": 40,
   "id": "e871d7f6",
   "metadata": {
    "scrolled": true
   },
   "outputs": [
    {
     "data": {
      "text/plain": [
       "secondary    5476\n",
       "tertiary     3689\n",
       "primary      1500\n",
       "unknown       497\n",
       "Name: education, dtype: int64"
      ]
     },
     "execution_count": 40,
     "metadata": {},
     "output_type": "execute_result"
    }
   ],
   "source": [
    "df.education.value_counts()"
   ]
  },
  {
   "cell_type": "code",
   "execution_count": 41,
   "id": "c59d13f9",
   "metadata": {},
   "outputs": [
    {
     "data": {
      "image/png": "[encoded data removed]",
      "text/plain": [
       "<Figure size 432x288 with 1 Axes>"
      ]
     },
     "metadata": {
      "needs_background": "light"
     },
     "output_type": "display_data"
    }
   ],
   "source": [
    "sns.countplot(df.education, palette = 'Dark2')\n",
    "plt.title(\"Education Vs count\",color = 'r')\n",
    "plt.xlabel('Education', color = 'r')\n",
    "plt.ylabel('Count', color = 'r')\n",
    "plt.show()"
   ]
  },
  {
   "cell_type": "code",
   "execution_count": 42,
   "id": "f9dc4578",
   "metadata": {},
   "outputs": [
    {
     "data": {
      "image/png": "[encoded data removed]",
      "text/plain": [
       "<Figure size 432x288 with 1 Axes>"
      ]
     },
     "metadata": {
      "needs_background": "light"
     },
     "output_type": "display_data"
    }
   ],
   "source": [
    "sns.countplot(df.education, hue = df.deposit,palette = 'CMRmap_r')\n",
    "plt.title(\"Education Vs count\",color = 'r')\n",
    "plt.xlabel('Education', color = 'r')\n",
    "plt.ylabel('Count', color = 'r')\n",
    "plt.show()"
   ]
  },
  {
   "cell_type": "code",
   "execution_count": 43,
   "id": "cabff5ee",
   "metadata": {
    "scrolled": true
   },
   "outputs": [
    {
     "data": {
      "text/html": [
       "<div>\n",
       "<style scoped>\n",
       "    .dataframe tbody tr th:only-of-type {\n",
       "        vertical-align: middle;\n",
       "    }\n",
       "\n",
       "    .dataframe tbody tr th {\n",
       "        vertical-align: top;\n",
       "    }\n",
       "\n",
       "    .dataframe thead th {\n",
       "        text-align: right;\n",
       "    }\n",
       "</style>\n",
       "<table border=\"1\" class=\"dataframe\">\n",
       "  <thead>\n",
       "    <tr style=\"text-align: right;\">\n",
       "      <th>deposit</th>\n",
       "      <th>0</th>\n",
       "      <th>1</th>\n",
       "    </tr>\n",
       "    <tr>\n",
       "      <th>education</th>\n",
       "      <th></th>\n",
       "      <th></th>\n",
       "    </tr>\n",
       "  </thead>\n",
       "  <tbody>\n",
       "    <tr>\n",
       "      <th>primary</th>\n",
       "      <td>909</td>\n",
       "      <td>591</td>\n",
       "    </tr>\n",
       "    <tr>\n",
       "      <th>secondary</th>\n",
       "      <td>3026</td>\n",
       "      <td>2450</td>\n",
       "    </tr>\n",
       "    <tr>\n",
       "      <th>tertiary</th>\n",
       "      <td>1693</td>\n",
       "      <td>1996</td>\n",
       "    </tr>\n",
       "    <tr>\n",
       "      <th>unknown</th>\n",
       "      <td>245</td>\n",
       "      <td>252</td>\n",
       "    </tr>\n",
       "  </tbody>\n",
       "</table>\n",
       "</div>"
      ],
      "text/plain": [
       "deposit       0     1\n",
       "education            \n",
       "primary     909   591\n",
       "secondary  3026  2450\n",
       "tertiary   1693  1996\n",
       "unknown     245   252"
      ]
     },
     "execution_count": 43,
     "metadata": {},
     "output_type": "execute_result"
    }
   ],
   "source": [
    "e_crosstab = pd.crosstab(df.education, df.deposit)\n",
    "e_crosstab"
   ]
  },
  {
   "cell_type": "code",
   "execution_count": 44,
   "id": "17ef067b",
   "metadata": {
    "scrolled": true
   },
   "outputs": [
    {
     "data": {
      "text/plain": [
       "(122.77008967211442,\n",
       " 1.9534186354212715e-26,\n",
       " 3,\n",
       " array([[ 789.24027952,  710.75972048],\n",
       "        [2881.25318043, 2594.74681957],\n",
       "        [1941.00492743, 1747.99507257],\n",
       "        [ 261.50161261,  235.49838739]]))"
      ]
     },
     "execution_count": 44,
     "metadata": {},
     "output_type": "execute_result"
    }
   ],
   "source": [
    "chi2_contingency(e_crosstab, correction=False)"
   ]
  },
  {
   "cell_type": "markdown",
   "id": "824fe4e2",
   "metadata": {},
   "source": [
    "* may be a good predictor"
   ]
  },
  {
   "cell_type": "code",
   "execution_count": 45,
   "id": "6a92647a",
   "metadata": {},
   "outputs": [],
   "source": [
    "df.education.replace(to_replace = ['primary', 'secondary', 'tertiary','unknown'], value = [0,1,2,3], inplace = True)"
   ]
  },
  {
   "cell_type": "code",
   "execution_count": 46,
   "id": "f33a72d0",
   "metadata": {
    "scrolled": true
   },
   "outputs": [
    {
     "data": {
      "text/plain": [
       "1    5476\n",
       "2    3689\n",
       "0    1500\n",
       "3     497\n",
       "Name: education, dtype: int64"
      ]
     },
     "execution_count": 46,
     "metadata": {},
     "output_type": "execute_result"
    }
   ],
   "source": [
    "df.education.value_counts()"
   ]
  },
  {
   "cell_type": "markdown",
   "id": "fc37ff1a",
   "metadata": {},
   "source": [
    "### 5. DEFAULT (Categorical)"
   ]
  },
  {
   "cell_type": "code",
   "execution_count": 47,
   "id": "118c1ed1",
   "metadata": {},
   "outputs": [
    {
     "data": {
      "text/plain": [
       "no     10994\n",
       "yes      168\n",
       "Name: default, dtype: int64"
      ]
     },
     "execution_count": 47,
     "metadata": {},
     "output_type": "execute_result"
    }
   ],
   "source": [
    "df.default.value_counts()"
   ]
  },
  {
   "cell_type": "code",
   "execution_count": 48,
   "id": "b3129a13",
   "metadata": {},
   "outputs": [],
   "source": [
    "df.default.replace(to_replace = ['no', 'yes'], value = [0,1], inplace = True)"
   ]
  },
  {
   "cell_type": "code",
   "execution_count": 49,
   "id": "4c1c455b",
   "metadata": {},
   "outputs": [
    {
     "data": {
      "text/plain": [
       "0    10994\n",
       "1      168\n",
       "Name: default, dtype: int64"
      ]
     },
     "execution_count": 49,
     "metadata": {},
     "output_type": "execute_result"
    }
   ],
   "source": [
    "df.default.value_counts()"
   ]
  },
  {
   "cell_type": "code",
   "execution_count": 50,
   "id": "08b273e2",
   "metadata": {},
   "outputs": [
    {
     "data": {
      "image/png": "[encoded data removed]",
      "text/plain": [
       "<Figure size 432x288 with 1 Axes>"
      ]
     },
     "metadata": {
      "needs_background": "light"
     },
     "output_type": "display_data"
    }
   ],
   "source": [
    "sns.countplot(df.default, palette = 'Dark2')\n",
    "plt.title(\"default Vs count\",color = 'r')\n",
    "plt.xlabel('default', color = 'r')\n",
    "plt.ylabel('Count', color = 'r')\n",
    "plt.show()"
   ]
  },
  {
   "cell_type": "code",
   "execution_count": 51,
   "id": "f7dc1a85",
   "metadata": {},
   "outputs": [
    {
     "data": {
      "image/png": "[encoded data removed]",
      "text/plain": [
       "<Figure size 432x288 with 1 Axes>"
      ]
     },
     "metadata": {
      "needs_background": "light"
     },
     "output_type": "display_data"
    }
   ],
   "source": [
    "sns.countplot(df.default, hue = df.deposit, palette = 'Dark2')\n",
    "plt.title(\"default Vs count\",color = 'r')\n",
    "plt.xlabel('default', color = 'r')\n",
    "plt.ylabel('Count', color = 'r')\n",
    "plt.show()"
   ]
  },
  {
   "cell_type": "code",
   "execution_count": 52,
   "id": "e5964e21",
   "metadata": {},
   "outputs": [
    {
     "data": {
      "text/html": [
       "<div>\n",
       "<style scoped>\n",
       "    .dataframe tbody tr th:only-of-type {\n",
       "        vertical-align: middle;\n",
       "    }\n",
       "\n",
       "    .dataframe tbody tr th {\n",
       "        vertical-align: top;\n",
       "    }\n",
       "\n",
       "    .dataframe thead th {\n",
       "        text-align: right;\n",
       "    }\n",
       "</style>\n",
       "<table border=\"1\" class=\"dataframe\">\n",
       "  <thead>\n",
       "    <tr style=\"text-align: right;\">\n",
       "      <th>deposit</th>\n",
       "      <th>0</th>\n",
       "      <th>1</th>\n",
       "    </tr>\n",
       "    <tr>\n",
       "      <th>default</th>\n",
       "      <th></th>\n",
       "      <th></th>\n",
       "    </tr>\n",
       "  </thead>\n",
       "  <tbody>\n",
       "    <tr>\n",
       "      <th>0</th>\n",
       "      <td>5757</td>\n",
       "      <td>5237</td>\n",
       "    </tr>\n",
       "    <tr>\n",
       "      <th>1</th>\n",
       "      <td>116</td>\n",
       "      <td>52</td>\n",
       "    </tr>\n",
       "  </tbody>\n",
       "</table>\n",
       "</div>"
      ],
      "text/plain": [
       "deposit     0     1\n",
       "default            \n",
       "0        5757  5237\n",
       "1         116    52"
      ]
     },
     "execution_count": 52,
     "metadata": {},
     "output_type": "execute_result"
    }
   ],
   "source": [
    "def_crosstab = pd.crosstab(df.default, df.deposit)\n",
    "def_crosstab"
   ]
  },
  {
   "cell_type": "code",
   "execution_count": 53,
   "id": "542fa223",
   "metadata": {},
   "outputs": [
    {
     "data": {
      "text/plain": [
       "(18.471653190787777,\n",
       " 1.7245026564004267e-05,\n",
       " 1,\n",
       " array([[5784.60508869, 5209.39491131],\n",
       "        [  88.39491131,   79.60508869]]))"
      ]
     },
     "execution_count": 53,
     "metadata": {},
     "output_type": "execute_result"
    }
   ],
   "source": [
    "chi2_contingency(def_crosstab, correction=False)"
   ]
  },
  {
   "cell_type": "markdown",
   "id": "df091065",
   "metadata": {},
   "source": [
    "* May be A GOOD predictor"
   ]
  },
  {
   "cell_type": "markdown",
   "id": "ef406a7b",
   "metadata": {},
   "source": [
    "### 6. BALANCE (Continous)"
   ]
  },
  {
   "cell_type": "code",
   "execution_count": 54,
   "id": "04640e59",
   "metadata": {},
   "outputs": [
    {
     "data": {
      "text/plain": [
       "11162"
      ]
     },
     "execution_count": 54,
     "metadata": {},
     "output_type": "execute_result"
    }
   ],
   "source": [
    "df.balance.value_counts().sum()"
   ]
  },
  {
   "cell_type": "code",
   "execution_count": 55,
   "id": "22157e9b",
   "metadata": {},
   "outputs": [
    {
     "data": {
      "image/png": "[encoded data removed]",
      "text/plain": [
       "<Figure size 432x288 with 1 Axes>"
      ]
     },
     "metadata": {
      "needs_background": "light"
     },
     "output_type": "display_data"
    }
   ],
   "source": [
    "sns.distplot(df.balance, color = 'blue')\n",
    "plt.title('Distribution of balance', color = 'r')\n",
    "plt.xlabel('balance', color = 'r')\n",
    "plt.ylabel('Density', color = 'r')\n",
    "plt.show()"
   ]
  },
  {
   "cell_type": "code",
   "execution_count": 56,
   "id": "ea805bef",
   "metadata": {},
   "outputs": [
    {
     "data": {
      "image/png": "[encoded data removed]",
      "text/plain": [
       "<Figure size 432x288 with 1 Axes>"
      ]
     },
     "metadata": {
      "needs_background": "light"
     },
     "output_type": "display_data"
    }
   ],
   "source": [
    "sns.boxplot(df.balance, color = 'g')\n",
    "plt.xlabel('balance', color = 'red')\n",
    "plt.title('Boxplot of balance', color = 'r')\n",
    "plt.xticks(rotation = '45', color = 'blue')\n",
    "plt.show()"
   ]
  },
  {
   "cell_type": "code",
   "execution_count": 57,
   "id": "b8edc5ef",
   "metadata": {},
   "outputs": [],
   "source": [
    "## counting outliers"
   ]
  },
  {
   "cell_type": "code",
   "execution_count": 58,
   "id": "45aa866e",
   "metadata": {},
   "outputs": [
    {
     "data": {
      "text/plain": [
       "1051"
      ]
     },
     "execution_count": 58,
     "metadata": {},
     "output_type": "execute_result"
    }
   ],
   "source": [
    "IQR = df.balance.describe()['75%'] - df.balance.describe()['25%']\n",
    "up_lim = df.balance.describe()['75%'] + 1.5 * IQR\n",
    "len(df.balance[df.balance > up_lim])"
   ]
  },
  {
   "cell_type": "code",
   "execution_count": 59,
   "id": "e1be76dc",
   "metadata": {},
   "outputs": [
    {
     "data": {
      "text/plain": [
       "deposit\n",
       "0    1280.0\n",
       "1    1804.0\n",
       "Name: balance, dtype: float64"
      ]
     },
     "execution_count": 59,
     "metadata": {},
     "output_type": "execute_result"
    }
   ],
   "source": [
    "round(df.balance.groupby(df.deposit).mean())"
   ]
  },
  {
   "cell_type": "code",
   "execution_count": 60,
   "id": "c375359f",
   "metadata": {
    "scrolled": true
   },
   "outputs": [
    {
     "data": {
      "image/png": "[encoded data removed]",
      "text/plain": [
       "<Figure size 432x288 with 1 Axes>"
      ]
     },
     "metadata": {
      "needs_background": "light"
     },
     "output_type": "display_data"
    }
   ],
   "source": [
    "sns.boxplot(x= 'deposit', y = 'balance', data = df)\n",
    "plt.title('Deposit vs balance', color = 'r')\n",
    "plt.xlabel('Deposit', color ='r')\n",
    "plt.ylabel('balance', color = 'r')\n",
    "plt.show()"
   ]
  },
  {
   "cell_type": "markdown",
   "id": "9cc8a380",
   "metadata": {},
   "source": [
    "### 7 . HOUSING (Categorical)"
   ]
  },
  {
   "cell_type": "code",
   "execution_count": 61,
   "id": "4751cca4",
   "metadata": {},
   "outputs": [
    {
     "data": {
      "text/plain": [
       "no     5881\n",
       "yes    5281\n",
       "Name: housing, dtype: int64"
      ]
     },
     "execution_count": 61,
     "metadata": {},
     "output_type": "execute_result"
    }
   ],
   "source": [
    "df.housing.value_counts()"
   ]
  },
  {
   "cell_type": "code",
   "execution_count": 62,
   "id": "5c6a8779",
   "metadata": {},
   "outputs": [],
   "source": [
    "df.housing.replace(to_replace = ['no', 'yes'], value = [0,1], inplace = True)"
   ]
  },
  {
   "cell_type": "code",
   "execution_count": 63,
   "id": "a474c4d8",
   "metadata": {},
   "outputs": [
    {
     "data": {
      "text/plain": [
       "0    5881\n",
       "1    5281\n",
       "Name: housing, dtype: int64"
      ]
     },
     "execution_count": 63,
     "metadata": {},
     "output_type": "execute_result"
    }
   ],
   "source": [
    "df.housing.value_counts()"
   ]
  },
  {
   "cell_type": "code",
   "execution_count": 64,
   "id": "6f0d9b91",
   "metadata": {},
   "outputs": [
    {
     "data": {
      "image/png": "[encoded data removed]",
      "text/plain": [
       "<Figure size 432x288 with 1 Axes>"
      ]
     },
     "metadata": {
      "needs_background": "light"
     },
     "output_type": "display_data"
    }
   ],
   "source": [
    "sns.countplot(df.housing, palette = 'Dark2')\n",
    "plt.title(\"housing Vs count\",color = 'r')\n",
    "plt.xlabel('housing', color = 'r')\n",
    "plt.ylabel('Count', color = 'r')\n",
    "plt.show()"
   ]
  },
  {
   "cell_type": "code",
   "execution_count": 65,
   "id": "8bfd05ed",
   "metadata": {},
   "outputs": [
    {
     "data": {
      "image/png": "[encoded data removed]",
      "text/plain": [
       "<Figure size 432x288 with 1 Axes>"
      ]
     },
     "metadata": {
      "needs_background": "light"
     },
     "output_type": "display_data"
    }
   ],
   "source": [
    "sns.countplot(df.housing, hue = df.deposit, palette = 'Dark2')\n",
    "plt.title(\"housing Vs count\",color = 'r')\n",
    "plt.xlabel('Housing', color = 'r')\n",
    "plt.ylabel('Count', color = 'r')\n",
    "plt.show()"
   ]
  },
  {
   "cell_type": "code",
   "execution_count": 66,
   "id": "750681a5",
   "metadata": {},
   "outputs": [
    {
     "data": {
      "text/html": [
       "<div>\n",
       "<style scoped>\n",
       "    .dataframe tbody tr th:only-of-type {\n",
       "        vertical-align: middle;\n",
       "    }\n",
       "\n",
       "    .dataframe tbody tr th {\n",
       "        vertical-align: top;\n",
       "    }\n",
       "\n",
       "    .dataframe thead th {\n",
       "        text-align: right;\n",
       "    }\n",
       "</style>\n",
       "<table border=\"1\" class=\"dataframe\">\n",
       "  <thead>\n",
       "    <tr style=\"text-align: right;\">\n",
       "      <th>deposit</th>\n",
       "      <th>0</th>\n",
       "      <th>1</th>\n",
       "    </tr>\n",
       "    <tr>\n",
       "      <th>housing</th>\n",
       "      <th></th>\n",
       "      <th></th>\n",
       "    </tr>\n",
       "  </thead>\n",
       "  <tbody>\n",
       "    <tr>\n",
       "      <th>0</th>\n",
       "      <td>2527</td>\n",
       "      <td>3354</td>\n",
       "    </tr>\n",
       "    <tr>\n",
       "      <th>1</th>\n",
       "      <td>3346</td>\n",
       "      <td>1935</td>\n",
       "    </tr>\n",
       "  </tbody>\n",
       "</table>\n",
       "</div>"
      ],
      "text/plain": [
       "deposit     0     1\n",
       "housing            \n",
       "0        2527  3354\n",
       "1        3346  1935"
      ]
     },
     "execution_count": 66,
     "metadata": {},
     "output_type": "execute_result"
    }
   ],
   "source": [
    "hou_crosstab = pd.crosstab(df.housing, df.deposit)\n",
    "hou_crosstab"
   ]
  },
  {
   "cell_type": "code",
   "execution_count": 67,
   "id": "0da67b46",
   "metadata": {},
   "outputs": [
    {
     "data": {
      "text/plain": [
       "(464.00673235222115,\n",
       " 6.456025415803168e-103,\n",
       " 1,\n",
       " array([[3094.3480559, 2786.6519441],\n",
       "        [2778.6519441, 2502.3480559]]))"
      ]
     },
     "execution_count": 67,
     "metadata": {},
     "output_type": "execute_result"
    }
   ],
   "source": [
    "chi2_contingency(hou_crosstab, correction = False)"
   ]
  },
  {
   "cell_type": "markdown",
   "id": "309d03a0",
   "metadata": {},
   "source": [
    "* May be a good predictor"
   ]
  },
  {
   "cell_type": "markdown",
   "id": "bf7d3b95",
   "metadata": {},
   "source": [
    "### 8 . LOAN (Categorical)"
   ]
  },
  {
   "cell_type": "code",
   "execution_count": 68,
   "id": "9983f66b",
   "metadata": {},
   "outputs": [
    {
     "data": {
      "text/plain": [
       "no     9702\n",
       "yes    1460\n",
       "Name: loan, dtype: int64"
      ]
     },
     "execution_count": 68,
     "metadata": {},
     "output_type": "execute_result"
    }
   ],
   "source": [
    "df.loan.value_counts()"
   ]
  },
  {
   "cell_type": "code",
   "execution_count": 69,
   "id": "5f0b5e8a",
   "metadata": {},
   "outputs": [],
   "source": [
    "df.loan.replace(to_replace = ['no', 'yes'], value = [0,1], inplace = True)"
   ]
  },
  {
   "cell_type": "code",
   "execution_count": 70,
   "id": "9ac36aca",
   "metadata": {},
   "outputs": [
    {
     "data": {
      "text/plain": [
       "0    9702\n",
       "1    1460\n",
       "Name: loan, dtype: int64"
      ]
     },
     "execution_count": 70,
     "metadata": {},
     "output_type": "execute_result"
    }
   ],
   "source": [
    "df.loan.value_counts()"
   ]
  },
  {
   "cell_type": "code",
   "execution_count": 71,
   "id": "28aa8e0e",
   "metadata": {},
   "outputs": [
    {
     "data": {
      "image/png": "[encoded data removed]",
      "text/plain": [
       "<Figure size 432x288 with 1 Axes>"
      ]
     },
     "metadata": {
      "needs_background": "light"
     },
     "output_type": "display_data"
    }
   ],
   "source": [
    "sns.countplot(df.loan, palette = 'Dark2')\n",
    "plt.title(\"Loan Vs count\",color = 'r')\n",
    "plt.xlabel('Loan', color = 'r')\n",
    "plt.ylabel('Count', color = 'r')\n",
    "plt.show()"
   ]
  },
  {
   "cell_type": "code",
   "execution_count": 72,
   "id": "731be903",
   "metadata": {},
   "outputs": [
    {
     "data": {
      "image/png": "[encoded data removed]",
      "text/plain": [
       "<Figure size 432x288 with 1 Axes>"
      ]
     },
     "metadata": {
      "needs_background": "light"
     },
     "output_type": "display_data"
    }
   ],
   "source": [
    "sns.countplot(df.loan,hue = df.deposit, palette = 'Dark2')\n",
    "plt.title(\"Loan Vs count\",color = 'r')\n",
    "plt.xlabel('Loan', color = 'r')\n",
    "plt.ylabel('Count', color = 'r')\n",
    "plt.show()"
   ]
  },
  {
   "cell_type": "code",
   "execution_count": 73,
   "id": "1abd29e0",
   "metadata": {},
   "outputs": [
    {
     "data": {
      "text/html": [
       "<div>\n",
       "<style scoped>\n",
       "    .dataframe tbody tr th:only-of-type {\n",
       "        vertical-align: middle;\n",
       "    }\n",
       "\n",
       "    .dataframe tbody tr th {\n",
       "        vertical-align: top;\n",
       "    }\n",
       "\n",
       "    .dataframe thead th {\n",
       "        text-align: right;\n",
       "    }\n",
       "</style>\n",
       "<table border=\"1\" class=\"dataframe\">\n",
       "  <thead>\n",
       "    <tr style=\"text-align: right;\">\n",
       "      <th>deposit</th>\n",
       "      <th>0</th>\n",
       "      <th>1</th>\n",
       "    </tr>\n",
       "    <tr>\n",
       "      <th>loan</th>\n",
       "      <th></th>\n",
       "      <th></th>\n",
       "    </tr>\n",
       "  </thead>\n",
       "  <tbody>\n",
       "    <tr>\n",
       "      <th>0</th>\n",
       "      <td>4897</td>\n",
       "      <td>4805</td>\n",
       "    </tr>\n",
       "    <tr>\n",
       "      <th>1</th>\n",
       "      <td>976</td>\n",
       "      <td>484</td>\n",
       "    </tr>\n",
       "  </tbody>\n",
       "</table>\n",
       "</div>"
      ],
      "text/plain": [
       "deposit     0     1\n",
       "loan               \n",
       "0        4897  4805\n",
       "1         976   484"
      ]
     },
     "execution_count": 73,
     "metadata": {},
     "output_type": "execute_result"
    }
   ],
   "source": [
    "loan_crosstab = pd.crosstab(df.loan, df.deposit)\n",
    "loan_crosstab"
   ]
  },
  {
   "cell_type": "code",
   "execution_count": 74,
   "id": "723c50ae",
   "metadata": {},
   "outputs": [
    {
     "data": {
      "text/plain": [
       "(136.48818574538302,\n",
       " 1.5603927824496013e-31,\n",
       " 1,\n",
       " array([[5104.80612793, 4597.19387207],\n",
       "        [ 768.19387207,  691.80612793]]))"
      ]
     },
     "execution_count": 74,
     "metadata": {},
     "output_type": "execute_result"
    }
   ],
   "source": [
    "chi2_contingency(loan_crosstab, correction = False)"
   ]
  },
  {
   "cell_type": "markdown",
   "id": "851797fd",
   "metadata": {},
   "source": [
    "* may be a good predictor"
   ]
  },
  {
   "cell_type": "markdown",
   "id": "b0dcc9e5",
   "metadata": {},
   "source": [
    "### 9. CONTACT (Categorical)"
   ]
  },
  {
   "cell_type": "code",
   "execution_count": 75,
   "id": "0144ce7f",
   "metadata": {},
   "outputs": [
    {
     "data": {
      "text/plain": [
       "cellular     8042\n",
       "unknown      2346\n",
       "telephone     774\n",
       "Name: contact, dtype: int64"
      ]
     },
     "execution_count": 75,
     "metadata": {},
     "output_type": "execute_result"
    }
   ],
   "source": [
    "df.contact.value_counts()"
   ]
  },
  {
   "cell_type": "code",
   "execution_count": 76,
   "id": "ccdf6603",
   "metadata": {
    "scrolled": true
   },
   "outputs": [
    {
     "data": {
      "image/png": "[encoded data removed]",
      "text/plain": [
       "<Figure size 432x288 with 1 Axes>"
      ]
     },
     "metadata": {
      "needs_background": "light"
     },
     "output_type": "display_data"
    }
   ],
   "source": [
    "sns.countplot(df.contact,hue = df.deposit, palette = 'Dark2')\n",
    "plt.title(\"Conatact Vs count\",color = 'r')\n",
    "plt.xlabel('Contact', color = 'r')\n",
    "plt.ylabel('Count', color = 'r')\n",
    "plt.show()"
   ]
  },
  {
   "cell_type": "code",
   "execution_count": 77,
   "id": "fc13a608",
   "metadata": {
    "scrolled": true
   },
   "outputs": [
    {
     "data": {
      "text/html": [
       "<div>\n",
       "<style scoped>\n",
       "    .dataframe tbody tr th:only-of-type {\n",
       "        vertical-align: middle;\n",
       "    }\n",
       "\n",
       "    .dataframe tbody tr th {\n",
       "        vertical-align: top;\n",
       "    }\n",
       "\n",
       "    .dataframe thead th {\n",
       "        text-align: right;\n",
       "    }\n",
       "</style>\n",
       "<table border=\"1\" class=\"dataframe\">\n",
       "  <thead>\n",
       "    <tr style=\"text-align: right;\">\n",
       "      <th>deposit</th>\n",
       "      <th>0</th>\n",
       "      <th>1</th>\n",
       "    </tr>\n",
       "    <tr>\n",
       "      <th>contact</th>\n",
       "      <th></th>\n",
       "      <th></th>\n",
       "    </tr>\n",
       "  </thead>\n",
       "  <tbody>\n",
       "    <tr>\n",
       "      <th>cellular</th>\n",
       "      <td>3673</td>\n",
       "      <td>4369</td>\n",
       "    </tr>\n",
       "    <tr>\n",
       "      <th>telephone</th>\n",
       "      <td>384</td>\n",
       "      <td>390</td>\n",
       "    </tr>\n",
       "    <tr>\n",
       "      <th>unknown</th>\n",
       "      <td>1816</td>\n",
       "      <td>530</td>\n",
       "    </tr>\n",
       "  </tbody>\n",
       "</table>\n",
       "</div>"
      ],
      "text/plain": [
       "deposit       0     1\n",
       "contact              \n",
       "cellular   3673  4369\n",
       "telephone   384   390\n",
       "unknown    1816   530"
      ]
     },
     "execution_count": 77,
     "metadata": {},
     "output_type": "execute_result"
    }
   ],
   "source": [
    "con_crosstab = pd.crosstab(df.contact, df.deposit)\n",
    "con_crosstab"
   ]
  },
  {
   "cell_type": "code",
   "execution_count": 78,
   "id": "9c353be7",
   "metadata": {},
   "outputs": [
    {
     "data": {
      "text/plain": [
       "(736.6866796046972,\n",
       " 1.0728032438445805e-160,\n",
       " 2,\n",
       " array([[4231.3802186 , 3810.6197814 ],\n",
       "        [ 407.24798423,  366.75201577],\n",
       "        [1234.37179717, 1111.62820283]]))"
      ]
     },
     "execution_count": 78,
     "metadata": {},
     "output_type": "execute_result"
    }
   ],
   "source": [
    "chi2_contingency(con_crosstab, correction = False)"
   ]
  },
  {
   "cell_type": "code",
   "execution_count": 79,
   "id": "bfc6c019",
   "metadata": {},
   "outputs": [],
   "source": [
    "df.contact.replace(to_replace = ['cellular','telephone', 'unknown'], value = [0,1,2], inplace = True)"
   ]
  },
  {
   "cell_type": "code",
   "execution_count": 80,
   "id": "a4df5d66",
   "metadata": {},
   "outputs": [
    {
     "data": {
      "text/plain": [
       "0    8042\n",
       "2    2346\n",
       "1     774\n",
       "Name: contact, dtype: int64"
      ]
     },
     "execution_count": 80,
     "metadata": {},
     "output_type": "execute_result"
    }
   ],
   "source": [
    "df.contact.value_counts()"
   ]
  },
  {
   "cell_type": "markdown",
   "id": "35d27e17",
   "metadata": {},
   "source": [
    "### 10 . DAY (Continous)"
   ]
  },
  {
   "cell_type": "code",
   "execution_count": 81,
   "id": "1ea17c54",
   "metadata": {},
   "outputs": [
    {
     "data": {
      "text/plain": [
       "20    570\n",
       "18    548\n",
       "30    478\n",
       "5     477\n",
       "15    466\n",
       "14    463\n",
       "13    453\n",
       "21    452\n",
       "6     447\n",
       "12    445\n",
       "8     419\n",
       "17    411\n",
       "28    410\n",
       "4     402\n",
       "29    388\n",
       "19    384\n",
       "7     382\n",
       "11    373\n",
       "16    369\n",
       "9     364\n",
       "2     334\n",
       "3     306\n",
       "27    284\n",
       "22    269\n",
       "26    252\n",
       "23    245\n",
       "25    224\n",
       "10    163\n",
       "31    140\n",
       "1     122\n",
       "24    122\n",
       "Name: day, dtype: int64"
      ]
     },
     "execution_count": 81,
     "metadata": {},
     "output_type": "execute_result"
    }
   ],
   "source": [
    "df.day.value_counts()"
   ]
  },
  {
   "cell_type": "code",
   "execution_count": 82,
   "id": "8d190077",
   "metadata": {},
   "outputs": [
    {
     "data": {
      "text/plain": [
       "Text(0.5, 1.0, 'Distribution of Days')"
      ]
     },
     "execution_count": 82,
     "metadata": {},
     "output_type": "execute_result"
    },
    {
     "data": {
      "image/png": "[encoded data removed]",
      "text/plain": [
       "<Figure size 432x288 with 1 Axes>"
      ]
     },
     "metadata": {
      "needs_background": "light"
     },
     "output_type": "display_data"
    }
   ],
   "source": [
    "sns.distplot(df.day)\n",
    "plt.title('Distribution of Days')"
   ]
  },
  {
   "cell_type": "code",
   "execution_count": 83,
   "id": "6c234dab",
   "metadata": {},
   "outputs": [
    {
     "data": {
      "text/plain": [
       "<AxesSubplot:xlabel='day'>"
      ]
     },
     "execution_count": 83,
     "metadata": {},
     "output_type": "execute_result"
    },
    {
     "data": {
      "image/png": "[encoded data removed]",
      "text/plain": [
       "<Figure size 432x288 with 1 Axes>"
      ]
     },
     "metadata": {
      "needs_background": "light"
     },
     "output_type": "display_data"
    }
   ],
   "source": [
    "sns.boxplot(df.day)"
   ]
  },
  {
   "cell_type": "code",
   "execution_count": 84,
   "id": "39ab24b5",
   "metadata": {},
   "outputs": [
    {
     "data": {
      "text/html": [
       "<div>\n",
       "<style scoped>\n",
       "    .dataframe tbody tr th:only-of-type {\n",
       "        vertical-align: middle;\n",
       "    }\n",
       "\n",
       "    .dataframe tbody tr th {\n",
       "        vertical-align: top;\n",
       "    }\n",
       "\n",
       "    .dataframe thead th {\n",
       "        text-align: right;\n",
       "    }\n",
       "</style>\n",
       "<table border=\"1\" class=\"dataframe\">\n",
       "  <thead>\n",
       "    <tr style=\"text-align: right;\">\n",
       "      <th></th>\n",
       "      <th>df</th>\n",
       "      <th>sum_sq</th>\n",
       "      <th>mean_sq</th>\n",
       "      <th>F</th>\n",
       "      <th>PR(&gt;F)</th>\n",
       "    </tr>\n",
       "  </thead>\n",
       "  <tbody>\n",
       "    <tr>\n",
       "      <th>day</th>\n",
       "      <td>1.0</td>\n",
       "      <td>8.828906</td>\n",
       "      <td>8.828906</td>\n",
       "      <td>35.518905</td>\n",
       "      <td>2.602203e-09</td>\n",
       "    </tr>\n",
       "    <tr>\n",
       "      <th>Residual</th>\n",
       "      <td>11160.0</td>\n",
       "      <td>2774.032320</td>\n",
       "      <td>0.248569</td>\n",
       "      <td>NaN</td>\n",
       "      <td>NaN</td>\n",
       "    </tr>\n",
       "  </tbody>\n",
       "</table>\n",
       "</div>"
      ],
      "text/plain": [
       "               df       sum_sq   mean_sq          F        PR(>F)\n",
       "day           1.0     8.828906  8.828906  35.518905  2.602203e-09\n",
       "Residual  11160.0  2774.032320  0.248569        NaN           NaN"
      ]
     },
     "execution_count": 84,
     "metadata": {},
     "output_type": "execute_result"
    }
   ],
   "source": [
    "from statsmodels.formula.api import ols\n",
    "mod = ols('deposit ~ day', data = df).fit()\n",
    "sm.stats.anova_lm(mod)"
   ]
  },
  {
   "cell_type": "markdown",
   "id": "9968436f",
   "metadata": {},
   "source": [
    "* may be a good predictor"
   ]
  },
  {
   "cell_type": "markdown",
   "id": "7e48bdf0",
   "metadata": {},
   "source": [
    "### 11. MONTH (Cat)"
   ]
  },
  {
   "cell_type": "code",
   "execution_count": 85,
   "id": "c309b295",
   "metadata": {},
   "outputs": [
    {
     "data": {
      "text/plain": [
       "may    2824\n",
       "aug    1519\n",
       "jul    1514\n",
       "jun    1222\n",
       "nov     943\n",
       "apr     923\n",
       "feb     776\n",
       "oct     392\n",
       "jan     344\n",
       "sep     319\n",
       "mar     276\n",
       "dec     110\n",
       "Name: month, dtype: int64"
      ]
     },
     "execution_count": 85,
     "metadata": {},
     "output_type": "execute_result"
    }
   ],
   "source": [
    "df.month.value_counts()"
   ]
  },
  {
   "cell_type": "code",
   "execution_count": 86,
   "id": "24defb12",
   "metadata": {},
   "outputs": [
    {
     "data": {
      "image/png": "[encoded data removed]",
      "text/plain": [
       "<Figure size 432x288 with 1 Axes>"
      ]
     },
     "metadata": {
      "needs_background": "light"
     },
     "output_type": "display_data"
    }
   ],
   "source": [
    "sns.countplot(df.month, palette = 'Dark2')\n",
    "plt.title(\"Month Vs count\",color = 'r')\n",
    "plt.xlabel('Month', color = 'r')\n",
    "plt.ylabel('Count', color = 'r')\n",
    "plt.show()"
   ]
  },
  {
   "cell_type": "code",
   "execution_count": 87,
   "id": "3ac2dbd8",
   "metadata": {},
   "outputs": [
    {
     "data": {
      "image/png": "[encoded data removed]",
      "text/plain": [
       "<Figure size 432x288 with 1 Axes>"
      ]
     },
     "metadata": {
      "needs_background": "light"
     },
     "output_type": "display_data"
    }
   ],
   "source": [
    "sns.countplot(df.month,hue = df.deposit, palette = 'Dark2')\n",
    "plt.title(\"Month Vs count\",color = 'r')\n",
    "plt.xlabel('Month', color = 'r')\n",
    "plt.ylabel('Count', color = 'r')\n",
    "plt.show()"
   ]
  },
  {
   "cell_type": "code",
   "execution_count": 88,
   "id": "75109c20",
   "metadata": {},
   "outputs": [
    {
     "data": {
      "text/html": [
       "<div>\n",
       "<style scoped>\n",
       "    .dataframe tbody tr th:only-of-type {\n",
       "        vertical-align: middle;\n",
       "    }\n",
       "\n",
       "    .dataframe tbody tr th {\n",
       "        vertical-align: top;\n",
       "    }\n",
       "\n",
       "    .dataframe thead th {\n",
       "        text-align: right;\n",
       "    }\n",
       "</style>\n",
       "<table border=\"1\" class=\"dataframe\">\n",
       "  <thead>\n",
       "    <tr style=\"text-align: right;\">\n",
       "      <th>deposit</th>\n",
       "      <th>0</th>\n",
       "      <th>1</th>\n",
       "    </tr>\n",
       "    <tr>\n",
       "      <th>month</th>\n",
       "      <th></th>\n",
       "      <th></th>\n",
       "    </tr>\n",
       "  </thead>\n",
       "  <tbody>\n",
       "    <tr>\n",
       "      <th>apr</th>\n",
       "      <td>346</td>\n",
       "      <td>577</td>\n",
       "    </tr>\n",
       "    <tr>\n",
       "      <th>aug</th>\n",
       "      <td>831</td>\n",
       "      <td>688</td>\n",
       "    </tr>\n",
       "    <tr>\n",
       "      <th>dec</th>\n",
       "      <td>10</td>\n",
       "      <td>100</td>\n",
       "    </tr>\n",
       "    <tr>\n",
       "      <th>feb</th>\n",
       "      <td>335</td>\n",
       "      <td>441</td>\n",
       "    </tr>\n",
       "    <tr>\n",
       "      <th>jan</th>\n",
       "      <td>202</td>\n",
       "      <td>142</td>\n",
       "    </tr>\n",
       "    <tr>\n",
       "      <th>jul</th>\n",
       "      <td>887</td>\n",
       "      <td>627</td>\n",
       "    </tr>\n",
       "    <tr>\n",
       "      <th>jun</th>\n",
       "      <td>676</td>\n",
       "      <td>546</td>\n",
       "    </tr>\n",
       "    <tr>\n",
       "      <th>mar</th>\n",
       "      <td>28</td>\n",
       "      <td>248</td>\n",
       "    </tr>\n",
       "    <tr>\n",
       "      <th>may</th>\n",
       "      <td>1899</td>\n",
       "      <td>925</td>\n",
       "    </tr>\n",
       "    <tr>\n",
       "      <th>nov</th>\n",
       "      <td>540</td>\n",
       "      <td>403</td>\n",
       "    </tr>\n",
       "    <tr>\n",
       "      <th>oct</th>\n",
       "      <td>69</td>\n",
       "      <td>323</td>\n",
       "    </tr>\n",
       "    <tr>\n",
       "      <th>sep</th>\n",
       "      <td>50</td>\n",
       "      <td>269</td>\n",
       "    </tr>\n",
       "  </tbody>\n",
       "</table>\n",
       "</div>"
      ],
      "text/plain": [
       "deposit     0    1\n",
       "month             \n",
       "apr       346  577\n",
       "aug       831  688\n",
       "dec        10  100\n",
       "feb       335  441\n",
       "jan       202  142\n",
       "jul       887  627\n",
       "jun       676  546\n",
       "mar        28  248\n",
       "may      1899  925\n",
       "nov       540  403\n",
       "oct        69  323\n",
       "sep        50  269"
      ]
     },
     "execution_count": 88,
     "metadata": {},
     "output_type": "execute_result"
    }
   ],
   "source": [
    "mon_crosstab = pd.crosstab(df.month, df.deposit)\n",
    "mon_crosstab"
   ]
  },
  {
   "cell_type": "code",
   "execution_count": 89,
   "id": "c23a6f54",
   "metadata": {},
   "outputs": [
    {
     "data": {
      "text/plain": [
       "(1046.7745027840656,\n",
       " 1.6420829584486923e-217,\n",
       " 11,\n",
       " array([[ 485.645852  ,  437.354148  ],\n",
       "        [ 799.23732306,  719.76267694],\n",
       "        [  57.8776205 ,   52.1223795 ],\n",
       "        [ 408.3003046 ,  367.6996954 ],\n",
       "        [ 180.9991041 ,  163.0008959 ],\n",
       "        [ 796.60652213,  717.39347787],\n",
       "        [ 642.96774772,  579.03225228],\n",
       "        [ 145.22021143,  130.77978857],\n",
       "        [1485.87636624, 1338.12363376],\n",
       "        [ 496.16905572,  446.83094428],\n",
       "        [ 206.25479305,  185.74520695],\n",
       "        [ 167.84509944,  151.15490056]]))"
      ]
     },
     "execution_count": 89,
     "metadata": {},
     "output_type": "execute_result"
    }
   ],
   "source": [
    "chi2_contingency(mon_crosstab, correction = False)"
   ]
  },
  {
   "cell_type": "markdown",
   "id": "8a3da332",
   "metadata": {},
   "source": [
    "* may be a good predictor"
   ]
  },
  {
   "cell_type": "markdown",
   "id": "c79f97e4",
   "metadata": {},
   "source": [
    "### 12. DURATION (Continous)"
   ]
  },
  {
   "cell_type": "code",
   "execution_count": 90,
   "id": "c42bda99",
   "metadata": {},
   "outputs": [
    {
     "data": {
      "text/plain": [
       "11162"
      ]
     },
     "execution_count": 90,
     "metadata": {},
     "output_type": "execute_result"
    }
   ],
   "source": [
    "df.duration.value_counts().sum()"
   ]
  },
  {
   "cell_type": "code",
   "execution_count": 91,
   "id": "7fedc15c",
   "metadata": {},
   "outputs": [
    {
     "data": {
      "image/png": "[encoded data removed]",
      "text/plain": [
       "<Figure size 432x288 with 1 Axes>"
      ]
     },
     "metadata": {
      "needs_background": "light"
     },
     "output_type": "display_data"
    }
   ],
   "source": [
    "sns.distplot(df.duration, color = 'blue')\n",
    "plt.title('Distribution of Duration', color = 'r')\n",
    "plt.xlabel('Duration', color = 'r')\n",
    "plt.ylabel('Density', color = 'r')\n",
    "plt.show()"
   ]
  },
  {
   "cell_type": "code",
   "execution_count": 92,
   "id": "553891f4",
   "metadata": {},
   "outputs": [
    {
     "data": {
      "image/png": "[encoded data removed]",
      "text/plain": [
       "<Figure size 432x288 with 1 Axes>"
      ]
     },
     "metadata": {
      "needs_background": "light"
     },
     "output_type": "display_data"
    }
   ],
   "source": [
    "sns.boxplot(df.duration, color = 'blue')\n",
    "plt.title('Distribution of Duration', color = 'r')\n",
    "plt.xlabel('Duration', color = 'r')\n",
    "plt.show()"
   ]
  },
  {
   "cell_type": "code",
   "execution_count": 93,
   "id": "a66e9ac3",
   "metadata": {},
   "outputs": [
    {
     "data": {
      "image/png": "[encoded data removed]",
      "text/plain": [
       "<Figure size 432x288 with 1 Axes>"
      ]
     },
     "metadata": {
      "needs_background": "light"
     },
     "output_type": "display_data"
    }
   ],
   "source": [
    "sns.boxplot(x= 'deposit', y = 'duration', data = df)\n",
    "plt.title('Deposit vs Duration', color = 'r')\n",
    "plt.xlabel('Deposit', color ='r')\n",
    "plt.ylabel('Duration', color = 'r')\n",
    "plt.show()"
   ]
  },
  {
   "cell_type": "code",
   "execution_count": 94,
   "id": "dba466b3",
   "metadata": {},
   "outputs": [
    {
     "data": {
      "text/html": [
       "<div>\n",
       "<style scoped>\n",
       "    .dataframe tbody tr th:only-of-type {\n",
       "        vertical-align: middle;\n",
       "    }\n",
       "\n",
       "    .dataframe tbody tr th {\n",
       "        vertical-align: top;\n",
       "    }\n",
       "\n",
       "    .dataframe thead th {\n",
       "        text-align: right;\n",
       "    }\n",
       "</style>\n",
       "<table border=\"1\" class=\"dataframe\">\n",
       "  <thead>\n",
       "    <tr style=\"text-align: right;\">\n",
       "      <th></th>\n",
       "      <th>df</th>\n",
       "      <th>sum_sq</th>\n",
       "      <th>mean_sq</th>\n",
       "      <th>F</th>\n",
       "      <th>PR(&gt;F)</th>\n",
       "    </tr>\n",
       "  </thead>\n",
       "  <tbody>\n",
       "    <tr>\n",
       "      <th>duration</th>\n",
       "      <td>1.0</td>\n",
       "      <td>568.346833</td>\n",
       "      <td>568.346833</td>\n",
       "      <td>2864.172247</td>\n",
       "      <td>0.0</td>\n",
       "    </tr>\n",
       "    <tr>\n",
       "      <th>Residual</th>\n",
       "      <td>11160.0</td>\n",
       "      <td>2214.514392</td>\n",
       "      <td>0.198433</td>\n",
       "      <td>NaN</td>\n",
       "      <td>NaN</td>\n",
       "    </tr>\n",
       "  </tbody>\n",
       "</table>\n",
       "</div>"
      ],
      "text/plain": [
       "               df       sum_sq     mean_sq            F  PR(>F)\n",
       "duration      1.0   568.346833  568.346833  2864.172247     0.0\n",
       "Residual  11160.0  2214.514392    0.198433          NaN     NaN"
      ]
     },
     "execution_count": 94,
     "metadata": {},
     "output_type": "execute_result"
    }
   ],
   "source": [
    "from statsmodels.formula.api import ols\n",
    "mod = ols('deposit ~ duration', data = df).fit()\n",
    "sm.stats.anova_lm(mod)"
   ]
  },
  {
   "cell_type": "markdown",
   "id": "07d8fe20",
   "metadata": {},
   "source": [
    "* May be a good Predictor"
   ]
  },
  {
   "cell_type": "markdown",
   "id": "b7c128bc",
   "metadata": {},
   "source": [
    "### 13. CAMPAIGN (Continous)"
   ]
  },
  {
   "cell_type": "code",
   "execution_count": 95,
   "id": "749aeee1",
   "metadata": {},
   "outputs": [
    {
     "data": {
      "text/plain": [
       "11162"
      ]
     },
     "execution_count": 95,
     "metadata": {},
     "output_type": "execute_result"
    }
   ],
   "source": [
    "df.campaign.value_counts().sum()"
   ]
  },
  {
   "cell_type": "code",
   "execution_count": 96,
   "id": "6bf290d6",
   "metadata": {},
   "outputs": [
    {
     "data": {
      "image/png": "[encoded data removed]",
      "text/plain": [
       "<Figure size 432x288 with 1 Axes>"
      ]
     },
     "metadata": {
      "needs_background": "light"
     },
     "output_type": "display_data"
    }
   ],
   "source": [
    "sns.distplot(df.campaign, color = 'g')\n",
    "plt.title('Distribution of Campaign', color = 'r')\n",
    "plt.xlabel('Campaign', color = 'r')\n",
    "plt.ylabel('Density', color = 'r')\n",
    "plt.show()"
   ]
  },
  {
   "cell_type": "code",
   "execution_count": 97,
   "id": "99068699",
   "metadata": {},
   "outputs": [
    {
     "data": {
      "image/png": "[encoded data removed]",
      "text/plain": [
       "<Figure size 432x288 with 1 Axes>"
      ]
     },
     "metadata": {
      "needs_background": "light"
     },
     "output_type": "display_data"
    }
   ],
   "source": [
    "sns.boxplot(df.duration, color = 'blue')\n",
    "plt.title('Distribution of Campaign', color = 'r')\n",
    "plt.xlabel('Campaign', color = 'r')\n",
    "plt.show()"
   ]
  },
  {
   "cell_type": "code",
   "execution_count": 98,
   "id": "a2fee73c",
   "metadata": {},
   "outputs": [
    {
     "data": {
      "image/png": "[encoded data removed]",
      "text/plain": [
       "<Figure size 432x288 with 1 Axes>"
      ]
     },
     "metadata": {
      "needs_background": "light"
     },
     "output_type": "display_data"
    }
   ],
   "source": [
    "sns.boxplot(x= 'deposit', y = 'campaign', data = df)\n",
    "plt.title('Deposit vs Campaign', color = 'r')\n",
    "plt.xlabel('Deposit', color ='r')\n",
    "plt.ylabel('Campaign', color = 'r')\n",
    "plt.show()"
   ]
  },
  {
   "cell_type": "code",
   "execution_count": 99,
   "id": "4b900e20",
   "metadata": {},
   "outputs": [
    {
     "data": {
      "text/html": [
       "<div>\n",
       "<style scoped>\n",
       "    .dataframe tbody tr th:only-of-type {\n",
       "        vertical-align: middle;\n",
       "    }\n",
       "\n",
       "    .dataframe tbody tr th {\n",
       "        vertical-align: top;\n",
       "    }\n",
       "\n",
       "    .dataframe thead th {\n",
       "        text-align: right;\n",
       "    }\n",
       "</style>\n",
       "<table border=\"1\" class=\"dataframe\">\n",
       "  <thead>\n",
       "    <tr style=\"text-align: right;\">\n",
       "      <th></th>\n",
       "      <th>df</th>\n",
       "      <th>sum_sq</th>\n",
       "      <th>mean_sq</th>\n",
       "      <th>F</th>\n",
       "      <th>PR(&gt;F)</th>\n",
       "    </tr>\n",
       "  </thead>\n",
       "  <tbody>\n",
       "    <tr>\n",
       "      <th>campaign</th>\n",
       "      <td>1.0</td>\n",
       "      <td>45.652012</td>\n",
       "      <td>45.652012</td>\n",
       "      <td>186.129893</td>\n",
       "      <td>4.831324e-42</td>\n",
       "    </tr>\n",
       "    <tr>\n",
       "      <th>Residual</th>\n",
       "      <td>11160.0</td>\n",
       "      <td>2737.209213</td>\n",
       "      <td>0.245270</td>\n",
       "      <td>NaN</td>\n",
       "      <td>NaN</td>\n",
       "    </tr>\n",
       "  </tbody>\n",
       "</table>\n",
       "</div>"
      ],
      "text/plain": [
       "               df       sum_sq    mean_sq           F        PR(>F)\n",
       "campaign      1.0    45.652012  45.652012  186.129893  4.831324e-42\n",
       "Residual  11160.0  2737.209213   0.245270         NaN           NaN"
      ]
     },
     "execution_count": 99,
     "metadata": {},
     "output_type": "execute_result"
    }
   ],
   "source": [
    "from statsmodels.formula.api import ols\n",
    "mod = ols('deposit ~ campaign', data = df).fit()\n",
    "sm.stats.anova_lm(mod)"
   ]
  },
  {
   "cell_type": "markdown",
   "id": "eed392a2",
   "metadata": {},
   "source": [
    "### 14. P days (Cont)"
   ]
  },
  {
   "cell_type": "code",
   "execution_count": 100,
   "id": "586bda36",
   "metadata": {},
   "outputs": [
    {
     "data": {
      "text/plain": [
       "(11162,)"
      ]
     },
     "execution_count": 100,
     "metadata": {},
     "output_type": "execute_result"
    }
   ],
   "source": [
    "df.pdays.shape"
   ]
  },
  {
   "cell_type": "code",
   "execution_count": 101,
   "id": "24293472",
   "metadata": {},
   "outputs": [
    {
     "data": {
      "image/png": "[encoded data removed]",
      "text/plain": [
       "<Figure size 432x288 with 1 Axes>"
      ]
     },
     "metadata": {
      "needs_background": "light"
     },
     "output_type": "display_data"
    }
   ],
   "source": [
    "sns.distplot(df.pdays, color = 'g')\n",
    "plt.title('Distribution of pdays', color = 'r')\n",
    "plt.xlabel('pdays', color = 'r')\n",
    "plt.ylabel('Density', color = 'r')\n",
    "plt.show()"
   ]
  },
  {
   "cell_type": "code",
   "execution_count": 102,
   "id": "b987501d",
   "metadata": {},
   "outputs": [
    {
     "data": {
      "image/png": "[encoded data removed]",
      "text/plain": [
       "<Figure size 432x288 with 1 Axes>"
      ]
     },
     "metadata": {
      "needs_background": "light"
     },
     "output_type": "display_data"
    }
   ],
   "source": [
    "sns.boxplot(x= 'deposit', y = 'pdays', data = df)\n",
    "plt.title('Deposit vs pdays', color = 'r')\n",
    "plt.xlabel('Deposit', color ='r')\n",
    "plt.ylabel('pdays', color = 'r')\n",
    "plt.show()"
   ]
  },
  {
   "cell_type": "code",
   "execution_count": 103,
   "id": "7bfd9c09",
   "metadata": {},
   "outputs": [
    {
     "data": {
      "text/html": [
       "<div>\n",
       "<style scoped>\n",
       "    .dataframe tbody tr th:only-of-type {\n",
       "        vertical-align: middle;\n",
       "    }\n",
       "\n",
       "    .dataframe tbody tr th {\n",
       "        vertical-align: top;\n",
       "    }\n",
       "\n",
       "    .dataframe thead th {\n",
       "        text-align: right;\n",
       "    }\n",
       "</style>\n",
       "<table border=\"1\" class=\"dataframe\">\n",
       "  <thead>\n",
       "    <tr style=\"text-align: right;\">\n",
       "      <th></th>\n",
       "      <th>df</th>\n",
       "      <th>sum_sq</th>\n",
       "      <th>mean_sq</th>\n",
       "      <th>F</th>\n",
       "      <th>PR(&gt;F)</th>\n",
       "    </tr>\n",
       "  </thead>\n",
       "  <tbody>\n",
       "    <tr>\n",
       "      <th>pdays</th>\n",
       "      <td>1.0</td>\n",
       "      <td>63.950961</td>\n",
       "      <td>63.950961</td>\n",
       "      <td>262.492195</td>\n",
       "      <td>2.271607e-58</td>\n",
       "    </tr>\n",
       "    <tr>\n",
       "      <th>Residual</th>\n",
       "      <td>11160.0</td>\n",
       "      <td>2718.910265</td>\n",
       "      <td>0.243630</td>\n",
       "      <td>NaN</td>\n",
       "      <td>NaN</td>\n",
       "    </tr>\n",
       "  </tbody>\n",
       "</table>\n",
       "</div>"
      ],
      "text/plain": [
       "               df       sum_sq    mean_sq           F        PR(>F)\n",
       "pdays         1.0    63.950961  63.950961  262.492195  2.271607e-58\n",
       "Residual  11160.0  2718.910265   0.243630         NaN           NaN"
      ]
     },
     "execution_count": 103,
     "metadata": {},
     "output_type": "execute_result"
    }
   ],
   "source": [
    "from statsmodels.formula.api import ols\n",
    "mod = ols('deposit ~ pdays', data = df).fit()\n",
    "sm.stats.anova_lm(mod)"
   ]
  },
  {
   "cell_type": "markdown",
   "id": "3d1d20f4",
   "metadata": {},
   "source": [
    "### 15. PREVIOUS (CONT)"
   ]
  },
  {
   "cell_type": "code",
   "execution_count": 104,
   "id": "a64abd99",
   "metadata": {},
   "outputs": [
    {
     "data": {
      "image/png": "[encoded data removed]",
      "text/plain": [
       "<Figure size 432x288 with 1 Axes>"
      ]
     },
     "metadata": {
      "needs_background": "light"
     },
     "output_type": "display_data"
    }
   ],
   "source": [
    "sns.distplot(df.previous, color = 'g')\n",
    "plt.title('Distribution of previous', color = 'r')\n",
    "plt.xlabel('previous', color = 'r')\n",
    "plt.ylabel('Density', color = 'r')\n",
    "plt.show()"
   ]
  },
  {
   "cell_type": "code",
   "execution_count": 105,
   "id": "0c1d4df3",
   "metadata": {},
   "outputs": [
    {
     "data": {
      "image/png": "[encoded data removed]",
      "text/plain": [
       "<Figure size 432x288 with 1 Axes>"
      ]
     },
     "metadata": {
      "needs_background": "light"
     },
     "output_type": "display_data"
    }
   ],
   "source": [
    "sns.boxplot(x= 'deposit', y = 'previous', data = df)\n",
    "plt.title('Deposit vs previous', color = 'r')\n",
    "plt.xlabel('Deposit', color ='r')\n",
    "plt.ylabel('previous', color = 'r')\n",
    "plt.show()"
   ]
  },
  {
   "cell_type": "code",
   "execution_count": 106,
   "id": "aca73b7c",
   "metadata": {},
   "outputs": [
    {
     "data": {
      "text/html": [
       "<div>\n",
       "<style scoped>\n",
       "    .dataframe tbody tr th:only-of-type {\n",
       "        vertical-align: middle;\n",
       "    }\n",
       "\n",
       "    .dataframe tbody tr th {\n",
       "        vertical-align: top;\n",
       "    }\n",
       "\n",
       "    .dataframe thead th {\n",
       "        text-align: right;\n",
       "    }\n",
       "</style>\n",
       "<table border=\"1\" class=\"dataframe\">\n",
       "  <thead>\n",
       "    <tr style=\"text-align: right;\">\n",
       "      <th></th>\n",
       "      <th>df</th>\n",
       "      <th>sum_sq</th>\n",
       "      <th>mean_sq</th>\n",
       "      <th>F</th>\n",
       "      <th>PR(&gt;F)</th>\n",
       "    </tr>\n",
       "  </thead>\n",
       "  <tbody>\n",
       "    <tr>\n",
       "      <th>previous</th>\n",
       "      <td>1.0</td>\n",
       "      <td>54.440588</td>\n",
       "      <td>54.440588</td>\n",
       "      <td>222.677159</td>\n",
       "      <td>7.125338e-50</td>\n",
       "    </tr>\n",
       "    <tr>\n",
       "      <th>Residual</th>\n",
       "      <td>11160.0</td>\n",
       "      <td>2728.420638</td>\n",
       "      <td>0.244482</td>\n",
       "      <td>NaN</td>\n",
       "      <td>NaN</td>\n",
       "    </tr>\n",
       "  </tbody>\n",
       "</table>\n",
       "</div>"
      ],
      "text/plain": [
       "               df       sum_sq    mean_sq           F        PR(>F)\n",
       "previous      1.0    54.440588  54.440588  222.677159  7.125338e-50\n",
       "Residual  11160.0  2728.420638   0.244482         NaN           NaN"
      ]
     },
     "execution_count": 106,
     "metadata": {},
     "output_type": "execute_result"
    }
   ],
   "source": [
    "from statsmodels.formula.api import ols\n",
    "mod = ols('deposit ~ previous', data = df).fit()\n",
    "sm.stats.anova_lm(mod)"
   ]
  },
  {
   "cell_type": "markdown",
   "id": "102e5687",
   "metadata": {},
   "source": [
    "* May be a good predictor"
   ]
  },
  {
   "cell_type": "markdown",
   "id": "062b8267",
   "metadata": {},
   "source": [
    "### 16. P OUTCOME(Cat)"
   ]
  },
  {
   "cell_type": "code",
   "execution_count": 107,
   "id": "fd5babb4",
   "metadata": {},
   "outputs": [
    {
     "data": {
      "text/plain": [
       "unknown    8326\n",
       "failure    1228\n",
       "success    1071\n",
       "other       537\n",
       "Name: poutcome, dtype: int64"
      ]
     },
     "execution_count": 107,
     "metadata": {},
     "output_type": "execute_result"
    }
   ],
   "source": [
    "df.poutcome.value_counts()"
   ]
  },
  {
   "cell_type": "code",
   "execution_count": 108,
   "id": "facba71d",
   "metadata": {},
   "outputs": [],
   "source": [
    "df.poutcome.replace(to_replace = ['failure','other', 'success', 'unknown'], value = [0,1,2,3], inplace = True)"
   ]
  },
  {
   "cell_type": "code",
   "execution_count": 109,
   "id": "e31492a4",
   "metadata": {},
   "outputs": [
    {
     "data": {
      "text/plain": [
       "3    8326\n",
       "0    1228\n",
       "2    1071\n",
       "1     537\n",
       "Name: poutcome, dtype: int64"
      ]
     },
     "execution_count": 109,
     "metadata": {},
     "output_type": "execute_result"
    }
   ],
   "source": [
    "df.poutcome.value_counts()"
   ]
  },
  {
   "cell_type": "code",
   "execution_count": 110,
   "id": "9cef29dc",
   "metadata": {},
   "outputs": [
    {
     "data": {
      "image/png": "[encoded data removed]",
      "text/plain": [
       "<Figure size 432x288 with 1 Axes>"
      ]
     },
     "metadata": {
      "needs_background": "light"
     },
     "output_type": "display_data"
    }
   ],
   "source": [
    "sns.countplot(df.poutcome,hue = df.deposit, palette = 'Dark2')\n",
    "plt.title(\"Poutcome Vs count\",color = 'r')\n",
    "plt.xlabel('Poutcome', color = 'r')\n",
    "plt.ylabel('Count', color = 'r')\n",
    "plt.show()"
   ]
  },
  {
   "cell_type": "code",
   "execution_count": 111,
   "id": "3cf12b76",
   "metadata": {},
   "outputs": [
    {
     "data": {
      "text/html": [
       "<div>\n",
       "<style scoped>\n",
       "    .dataframe tbody tr th:only-of-type {\n",
       "        vertical-align: middle;\n",
       "    }\n",
       "\n",
       "    .dataframe tbody tr th {\n",
       "        vertical-align: top;\n",
       "    }\n",
       "\n",
       "    .dataframe thead th {\n",
       "        text-align: right;\n",
       "    }\n",
       "</style>\n",
       "<table border=\"1\" class=\"dataframe\">\n",
       "  <thead>\n",
       "    <tr style=\"text-align: right;\">\n",
       "      <th>deposit</th>\n",
       "      <th>0</th>\n",
       "      <th>1</th>\n",
       "    </tr>\n",
       "    <tr>\n",
       "      <th>poutcome</th>\n",
       "      <th></th>\n",
       "      <th></th>\n",
       "    </tr>\n",
       "  </thead>\n",
       "  <tbody>\n",
       "    <tr>\n",
       "      <th>0</th>\n",
       "      <td>610</td>\n",
       "      <td>618</td>\n",
       "    </tr>\n",
       "    <tr>\n",
       "      <th>1</th>\n",
       "      <td>230</td>\n",
       "      <td>307</td>\n",
       "    </tr>\n",
       "    <tr>\n",
       "      <th>2</th>\n",
       "      <td>93</td>\n",
       "      <td>978</td>\n",
       "    </tr>\n",
       "    <tr>\n",
       "      <th>3</th>\n",
       "      <td>4940</td>\n",
       "      <td>3386</td>\n",
       "    </tr>\n",
       "  </tbody>\n",
       "</table>\n",
       "</div>"
      ],
      "text/plain": [
       "deposit      0     1\n",
       "poutcome            \n",
       "0          610   618\n",
       "1          230   307\n",
       "2           93   978\n",
       "3         4940  3386"
      ]
     },
     "execution_count": 111,
     "metadata": {},
     "output_type": "execute_result"
    }
   ],
   "source": [
    "pot_crosstab = pd.crosstab(df.poutcome, df.deposit)\n",
    "pot_crosstab"
   ]
  },
  {
   "cell_type": "code",
   "execution_count": 112,
   "id": "0b192b9b",
   "metadata": {},
   "outputs": [
    {
     "data": {
      "text/plain": [
       "(1004.635780185333,\n",
       " 1.7761850102620281e-217,\n",
       " 3,\n",
       " array([[ 646.12470883,  581.87529117],\n",
       "        [ 282.54802007,  254.45197993],\n",
       "        [ 563.51755958,  507.48244042],\n",
       "        [4380.80971152, 3945.19028848]]))"
      ]
     },
     "execution_count": 112,
     "metadata": {},
     "output_type": "execute_result"
    }
   ],
   "source": [
    "chi2_contingency(pot_crosstab, correction = False)"
   ]
  },
  {
   "cell_type": "markdown",
   "id": "b0f0ced3",
   "metadata": {},
   "source": [
    "* May be a good predictor"
   ]
  },
  {
   "cell_type": "code",
   "execution_count": 6,
   "id": "5367f5fb",
   "metadata": {},
   "outputs": [
    {
     "name": "stdout",
     "output_type": "stream",
     "text": [
      "<class 'pandas.core.frame.DataFrame'>\n",
      "RangeIndex: 11162 entries, 0 to 11161\n",
      "Data columns (total 17 columns):\n",
      " #   Column     Non-Null Count  Dtype \n",
      "---  ------     --------------  ----- \n",
      " 0   age        11162 non-null  int64 \n",
      " 1   job        11162 non-null  object\n",
      " 2   marital    11162 non-null  object\n",
      " 3   education  11162 non-null  object\n",
      " 4   default    11162 non-null  object\n",
      " 5   balance    11162 non-null  int64 \n",
      " 6   housing    11162 non-null  object\n",
      " 7   loan       11162 non-null  object\n",
      " 8   contact    11162 non-null  object\n",
      " 9   day        11162 non-null  int64 \n",
      " 10  month      11162 non-null  object\n",
      " 11  duration   11162 non-null  int64 \n",
      " 12  campaign   11162 non-null  int64 \n",
      " 13  pdays      11162 non-null  int64 \n",
      " 14  previous   11162 non-null  int64 \n",
      " 15  poutcome   11162 non-null  object\n",
      " 16  deposit    11162 non-null  int64 \n",
      "dtypes: int64(8), object(9)\n",
      "memory usage: 1.4+ MB\n"
     ]
    }
   ],
   "source": [
    "df.info()"
   ]
  },
  {
   "cell_type": "code",
   "execution_count": 8,
   "id": "cdc85b30",
   "metadata": {},
   "outputs": [],
   "source": [
    "hm = df.loc[:,['age','balance','day','duration','campaign','pdays','previous']]"
   ]
  },
  {
   "cell_type": "code",
   "execution_count": 9,
   "id": "faf41fa3",
   "metadata": {},
   "outputs": [
    {
     "name": "stdout",
     "output_type": "stream",
     "text": [
      "               age   balance       day  duration  campaign     pdays  previous\n",
      "age       1.000000  0.112300 -0.000762  0.000189 -0.005278  0.002774  0.020169\n",
      "balance   0.112300  1.000000  0.010467  0.022436 -0.013894  0.017411  0.030805\n",
      "day      -0.000762  0.010467  1.000000 -0.018511  0.137007 -0.077232 -0.058981\n",
      "duration  0.000189  0.022436 -0.018511  1.000000 -0.041557 -0.027392 -0.026716\n",
      "campaign -0.005278 -0.013894  0.137007 -0.041557  1.000000 -0.102726 -0.049699\n",
      "pdays     0.002774  0.017411 -0.077232 -0.027392 -0.102726  1.000000  0.507272\n",
      "previous  0.020169  0.030805 -0.058981 -0.026716 -0.049699  0.507272  1.000000\n"
     ]
    }
   ],
   "source": [
    "print(hm.corr())"
   ]
  },
  {
   "cell_type": "code",
   "execution_count": 10,
   "id": "7e63f81b",
   "metadata": {
    "scrolled": true
   },
   "outputs": [
    {
     "data": {
      "text/plain": [
       "Text(0.5, 1.0, 'correlation matrix')"
      ]
     },
     "execution_count": 10,
     "metadata": {},
     "output_type": "execute_result"
    },
    {
     "data": {
      "image/png": "[encoded data removed]",
      "text/plain": [
       "<Figure size 432x288 with 2 Axes>"
      ]
     },
     "metadata": {
      "needs_background": "light"
     },
     "output_type": "display_data"
    }
   ],
   "source": [
    "sns.heatmap(hm.corr(), cmap = 'RdYlBu', annot = True)\n",
    "plt.title('correlation matrix')"
   ]
  },
  {
   "cell_type": "markdown",
   "id": "690e7d5d",
   "metadata": {},
   "source": [
    "## Creating Dummy Variables"
   ]
  },
  {
   "cell_type": "code",
   "execution_count": 12,
   "id": "fd48d66f",
   "metadata": {},
   "outputs": [],
   "source": [
    "cat_vars = ['job', 'marital', 'education', 'default','housing','loan','contact','month','poutcome']"
   ]
  },
  {
   "cell_type": "code",
   "execution_count": 13,
   "id": "9fd54200",
   "metadata": {},
   "outputs": [],
   "source": [
    "for var in cat_vars:\n",
    "    cat_list = 'var' + '_' + var\n",
    "    cat_list = pd.get_dummies(df[var], prefix = var)\n",
    "    data = df.join(cat_list)\n",
    "    df = data"
   ]
  },
  {
   "cell_type": "code",
   "execution_count": 14,
   "id": "665eb30e",
   "metadata": {},
   "outputs": [],
   "source": [
    "cat_vars = ['job', 'marital', 'education', 'default','housing','loan','contact','month','poutcome']\n",
    "df_vars = df.columns.values.tolist()\n",
    "to_keep = [i for i in df_vars if i not in cat_vars]"
   ]
  },
  {
   "cell_type": "code",
   "execution_count": 15,
   "id": "80347b67",
   "metadata": {
    "scrolled": true
   },
   "outputs": [
    {
     "data": {
      "text/plain": [
       "array(['age', 'balance', 'day', 'duration', 'campaign', 'pdays',\n",
       "       'previous', 'deposit', 'job_admin.', 'job_blue-collar',\n",
       "       'job_entrepreneur', 'job_housemaid', 'job_management',\n",
       "       'job_retired', 'job_self-employed', 'job_services', 'job_student',\n",
       "       'job_technician', 'job_unemployed', 'job_unknown',\n",
       "       'marital_divorced', 'marital_married', 'marital_single',\n",
       "       'education_primary', 'education_secondary', 'education_tertiary',\n",
       "       'education_unknown', 'default_no', 'default_yes', 'housing_no',\n",
       "       'housing_yes', 'loan_no', 'loan_yes', 'contact_cellular',\n",
       "       'contact_telephone', 'contact_unknown', 'month_apr', 'month_aug',\n",
       "       'month_dec', 'month_feb', 'month_jan', 'month_jul', 'month_jun',\n",
       "       'month_mar', 'month_may', 'month_nov', 'month_oct', 'month_sep',\n",
       "       'poutcome_failure', 'poutcome_other', 'poutcome_success',\n",
       "       'poutcome_unknown'], dtype=object)"
      ]
     },
     "execution_count": 15,
     "metadata": {},
     "output_type": "execute_result"
    }
   ],
   "source": [
    "df_final = df[to_keep]\n",
    "df_final.columns.values"
   ]
  },
  {
   "cell_type": "code",
   "execution_count": 8,
   "id": "f1682de6",
   "metadata": {},
   "outputs": [
    {
     "data": {
      "text/plain": [
       "Index(['age', 'job', 'marital', 'education', 'default', 'balance', 'housing',\n",
       "       'loan', 'contact', 'day', 'month', 'duration', 'campaign', 'pdays',\n",
       "       'previous', 'poutcome', 'deposit', 'job_admin.', 'job_blue-collar',\n",
       "       'job_entrepreneur', 'job_housemaid', 'job_management', 'job_retired',\n",
       "       'job_self-employed', 'job_services', 'job_student', 'job_technician',\n",
       "       'job_unemployed', 'job_unknown', 'marital_divorced', 'marital_married',\n",
       "       'marital_single', 'education_primary', 'education_secondary',\n",
       "       'education_tertiary', 'education_unknown', 'default_no', 'default_yes',\n",
       "       'housing_no', 'housing_yes', 'loan_no', 'loan_yes', 'contact_cellular',\n",
       "       'contact_telephone', 'contact_unknown', 'month_apr', 'month_aug',\n",
       "       'month_dec', 'month_feb', 'month_jan', 'month_jul', 'month_jun',\n",
       "       'month_mar', 'month_may', 'month_nov', 'month_oct', 'month_sep',\n",
       "       'poutcome_failure', 'poutcome_other', 'poutcome_success',\n",
       "       'poutcome_unknown'],\n",
       "      dtype='object')"
      ]
     },
     "execution_count": 8,
     "metadata": {},
     "output_type": "execute_result"
    }
   ],
   "source": [
    "df.columns"
   ]
  },
  {
   "cell_type": "markdown",
   "id": "a726b56a",
   "metadata": {},
   "source": [
    "## Dropping Original Variables"
   ]
  },
  {
   "cell_type": "code",
   "execution_count": 16,
   "id": "fc29139e",
   "metadata": {},
   "outputs": [],
   "source": [
    "df.drop(columns = ['job', 'marital', 'education', 'default','housing','loan','contact','month','poutcome'], axis = 1, inplace = True)"
   ]
  },
  {
   "cell_type": "code",
   "execution_count": 17,
   "id": "44fc01ef",
   "metadata": {},
   "outputs": [
    {
     "data": {
      "text/plain": [
       "Index(['age', 'balance', 'day', 'duration', 'campaign', 'pdays', 'previous',\n",
       "       'deposit', 'job_admin.', 'job_blue-collar', 'job_entrepreneur',\n",
       "       'job_housemaid', 'job_management', 'job_retired', 'job_self-employed',\n",
       "       'job_services', 'job_student', 'job_technician', 'job_unemployed',\n",
       "       'job_unknown', 'marital_divorced', 'marital_married', 'marital_single',\n",
       "       'education_primary', 'education_secondary', 'education_tertiary',\n",
       "       'education_unknown', 'default_no', 'default_yes', 'housing_no',\n",
       "       'housing_yes', 'loan_no', 'loan_yes', 'contact_cellular',\n",
       "       'contact_telephone', 'contact_unknown', 'month_apr', 'month_aug',\n",
       "       'month_dec', 'month_feb', 'month_jan', 'month_jul', 'month_jun',\n",
       "       'month_mar', 'month_may', 'month_nov', 'month_oct', 'month_sep',\n",
       "       'poutcome_failure', 'poutcome_other', 'poutcome_success',\n",
       "       'poutcome_unknown'],\n",
       "      dtype='object')"
      ]
     },
     "execution_count": 17,
     "metadata": {},
     "output_type": "execute_result"
    }
   ],
   "source": [
    "df.columns"
   ]
  },
  {
   "cell_type": "code",
   "execution_count": 18,
   "id": "264d53d9",
   "metadata": {},
   "outputs": [],
   "source": [
    "import sklearn\n",
    "from sklearn.linear_model import Lasso, LassoCV, Ridge, RidgeCV\n",
    "from sklearn.model_selection import cross_val_predict, train_test_split\n",
    "from statsmodels.stats.outliers_influence import variance_inflation_factor\n",
    "from sklearn.preprocessing import StandardScaler\n",
    "from sklearn.linear_model import SGDRegressor\n",
    "from sklearn.metrics import mean_squared_error\n",
    "from sklearn.linear_model import LogisticRegression\n",
    "from sklearn.metrics import roc_curve, roc_auc_score\n",
    "from sklearn.metrics import confusion_matrix, classification_report\n",
    "from sklearn.utils import resample\n",
    "from sklearn.metrics import confusion_matrix, classification_report\n",
    "from sklearn.feature_selection import RFE"
   ]
  },
  {
   "cell_type": "code",
   "execution_count": 19,
   "id": "00a708f5",
   "metadata": {},
   "outputs": [],
   "source": [
    "get_ipython().run_line_magic('matplotlib', 'inline')\n",
    "sns.set(style=\"white\")\n",
    "sns.set(style=\"whitegrid\", color_codes=True)"
   ]
  },
  {
   "cell_type": "markdown",
   "id": "d51cb7d3",
   "metadata": {},
   "source": [
    "### Over Sampling using SMOTE (Synthetic Minority Oversampling Technique)"
   ]
  },
  {
   "cell_type": "code",
   "execution_count": 20,
   "id": "714ac55b",
   "metadata": {},
   "outputs": [],
   "source": [
    "from imblearn.over_sampling import SMOTE"
   ]
  },
  {
   "cell_type": "code",
   "execution_count": 21,
   "id": "c1b702ef",
   "metadata": {},
   "outputs": [],
   "source": [
    "x = df_final.loc[:, df_final.columns != 'deposit']\n",
    "y = df_final.loc[:, df_final.columns == 'deposit']\n",
    "os = SMOTE(random_state = 0)"
   ]
  },
  {
   "cell_type": "code",
   "execution_count": 22,
   "id": "f310b082",
   "metadata": {},
   "outputs": [],
   "source": [
    "x_train, x_test, y_train, y_test = train_test_split(x,y, test_size = 0.3, random_state = 0)"
   ]
  },
  {
   "cell_type": "code",
   "execution_count": 23,
   "id": "ffbeb01c",
   "metadata": {},
   "outputs": [],
   "source": [
    "columns = x_train.columns"
   ]
  },
  {
   "cell_type": "code",
   "execution_count": 27,
   "id": "09afa7d7",
   "metadata": {},
   "outputs": [],
   "source": [
    "os_data_x,os_data_y=os.fit_resample(x_train, y_train)\n",
    "os_data_x = pd.DataFrame(data=os_data_x,columns=columns )\n",
    "os_data_y= pd.DataFrame(data=os_data_y,columns=['deposit'])\n"
   ]
  },
  {
   "cell_type": "code",
   "execution_count": 28,
   "id": "a599f57c",
   "metadata": {},
   "outputs": [
    {
     "name": "stdout",
     "output_type": "stream",
     "text": [
      "length of oversampled data is  8162\n",
      "Number of no subscription in oversampled data 4081\n",
      "Number of subscription 4081\n",
      "Proportion of no subscription data in oversampled data is  0.5\n",
      "Proportion of subscription data in oversampled data is  0.5\n"
     ]
    }
   ],
   "source": [
    "# we can Check the numbers of our data\n",
    "print(\"length of oversampled data is \",len(os_data_x))\n",
    "print(\"Number of no subscription in oversampled data\",len(os_data_y[os_data_y['deposit']==0]))\n",
    "print(\"Number of subscription\",len(os_data_y[os_data_y['deposit']==1]))\n",
    "print(\"Proportion of no subscription data in oversampled data is \",len(os_data_y[os_data_y['deposit']==0])/len(os_data_x))\n",
    "print(\"Proportion of subscription data in oversampled data is \",len(os_data_y[os_data_y['deposit']==1])/len(os_data_x))"
   ]
  },
  {
   "cell_type": "code",
   "execution_count": 29,
   "id": "4c87216c",
   "metadata": {},
   "outputs": [
    {
     "data": {
      "text/plain": [
       "0    5873\n",
       "1    5289\n",
       "Name: deposit, dtype: int64"
      ]
     },
     "execution_count": 29,
     "metadata": {},
     "output_type": "execute_result"
    }
   ],
   "source": [
    "df.deposit.value_counts()"
   ]
  },
  {
   "cell_type": "code",
   "execution_count": 30,
   "id": "510104a7",
   "metadata": {},
   "outputs": [
    {
     "data": {
      "text/plain": [
       "5873"
      ]
     },
     "execution_count": 30,
     "metadata": {},
     "output_type": "execute_result"
    }
   ],
   "source": [
    "not_default = df[df.deposit==0]\n",
    "len(not_default)"
   ]
  },
  {
   "cell_type": "code",
   "execution_count": 31,
   "id": "ac090e78",
   "metadata": {},
   "outputs": [
    {
     "data": {
      "text/plain": [
       "5873"
      ]
     },
     "execution_count": 31,
     "metadata": {},
     "output_type": "execute_result"
    }
   ],
   "source": [
    "default = df[df.deposit==1]\n",
    "len(not_default)"
   ]
  },
  {
   "cell_type": "code",
   "execution_count": 32,
   "id": "674affa8",
   "metadata": {},
   "outputs": [],
   "source": [
    "default_unsampled1 = resample(default,\n",
    "                             replace = True,\n",
    "                             n_samples = len(not_default),\n",
    "                             random_state=0)"
   ]
  },
  {
   "cell_type": "code",
   "execution_count": 33,
   "id": "ee34981c",
   "metadata": {},
   "outputs": [
    {
     "data": {
      "text/plain": [
       "0    5873\n",
       "1    5873\n",
       "Name: deposit, dtype: int64"
      ]
     },
     "execution_count": 33,
     "metadata": {},
     "output_type": "execute_result"
    }
   ],
   "source": [
    "unsampled1 = pd.concat([not_default, default_unsampled1])\n",
    "unsampled1.deposit.value_counts()"
   ]
  },
  {
   "cell_type": "markdown",
   "id": "33681c3e",
   "metadata": {},
   "source": [
    "### Feauture Selection"
   ]
  },
  {
   "cell_type": "code",
   "execution_count": 37,
   "id": "1203bb43",
   "metadata": {},
   "outputs": [
    {
     "name": "stdout",
     "output_type": "stream",
     "text": [
      "[False False False False False False False False False False False False\n",
      "  True False False False False False False  True  True  True  True  True\n",
      "  True  True False False False False  True  True  True  True  True  True\n",
      "  True False  True  True  True  True False  True  True False False  True\n",
      "  True  True  True]\n",
      "[23 27 24 21 16 26 19 22 20 13  6 12  1  9 14  2 18  7  8  1  1  1  1  1\n",
      "  1  1 11 10 25  3  1  1  1  1  1  1  1 15  1  1  1  1  4  1  1 17  5  1\n",
      "  1  1  1]\n"
     ]
    }
   ],
   "source": [
    "df_final_vars=df_final.columns.values.tolist()\n",
    "y=['deposit']\n",
    "x=[i for i in df_final_vars if i not in y]\n",
    "\n",
    "logreg = LogisticRegression()\n",
    "rfe = RFE(logreg)\n",
    "rfe = rfe.fit(os_data_x, os_data_y.values.ravel())\n",
    "print(rfe.support_)\n",
    "print(rfe.ranking_)"
   ]
  },
  {
   "cell_type": "code",
   "execution_count": 38,
   "id": "e4b479e5",
   "metadata": {
    "scrolled": false
   },
   "outputs": [
    {
     "data": {
      "text/plain": [
       "Index(['age', 'balance', 'day', 'duration', 'campaign', 'pdays', 'previous',\n",
       "       'deposit', 'job_admin.', 'job_blue-collar', 'job_entrepreneur',\n",
       "       'job_housemaid', 'job_management', 'job_retired', 'job_self-employed',\n",
       "       'job_services', 'job_student', 'job_technician', 'job_unemployed',\n",
       "       'job_unknown', 'marital_divorced', 'marital_married', 'marital_single',\n",
       "       'education_primary', 'education_secondary', 'education_tertiary',\n",
       "       'education_unknown', 'default_no', 'default_yes', 'housing_no',\n",
       "       'housing_yes', 'loan_no', 'loan_yes', 'contact_cellular',\n",
       "       'contact_telephone', 'contact_unknown', 'month_apr', 'month_aug',\n",
       "       'month_dec', 'month_feb', 'month_jan', 'month_jul', 'month_jun',\n",
       "       'month_mar', 'month_may', 'month_nov', 'month_oct', 'month_sep',\n",
       "       'poutcome_failure', 'poutcome_other', 'poutcome_success',\n",
       "       'poutcome_unknown'],\n",
       "      dtype='object')"
      ]
     },
     "execution_count": 38,
     "metadata": {},
     "output_type": "execute_result"
    }
   ],
   "source": [
    "df.columns"
   ]
  },
  {
   "cell_type": "code",
   "execution_count": 40,
   "id": "7c1d46e9",
   "metadata": {
    "scrolled": true
   },
   "outputs": [
    {
     "data": {
      "text/plain": [
       "0       1\n",
       "1       1\n",
       "2       1\n",
       "3       0\n",
       "4       0\n",
       "       ..\n",
       "8157    1\n",
       "8158    1\n",
       "8159    1\n",
       "8160    1\n",
       "8161    1\n",
       "Name: deposit, Length: 8162, dtype: int64"
      ]
     },
     "execution_count": 40,
     "metadata": {},
     "output_type": "execute_result"
    }
   ],
   "source": [
    "os_data_y['deposit']"
   ]
  },
  {
   "cell_type": "code",
   "execution_count": 41,
   "id": "178c439a",
   "metadata": {},
   "outputs": [],
   "source": [
    "cols = ['age', 'balance', 'day', 'duration', 'campaign', 'pdays', 'previous','job_admin.', \n",
    "        'job_blue-collar', 'job_entrepreneur','job_housemaid', 'job_management', 'job_retired', 'job_self-employed',\n",
    "       'job_services', 'job_student', 'job_technician', 'job_unemployed',\n",
    "       'job_unknown', 'marital_divorced', 'marital_married', 'marital_single',\n",
    "       'education_primary', 'education_secondary', 'education_tertiary',\n",
    "       'education_unknown', 'default_no', 'default_yes', 'housing_no',\n",
    "       'housing_yes', 'loan_no', 'loan_yes', 'contact_cellular',\n",
    "       'contact_telephone', 'contact_unknown', 'month_apr', 'month_aug',\n",
    "       'month_dec', 'month_feb', 'month_jan', 'month_jul', 'month_jun',\n",
    "       'month_mar', 'month_may', 'month_nov', 'month_oct', 'month_sep',\n",
    "       'poutcome_failure', 'poutcome_other', 'poutcome_success',\n",
    "       'poutcome_unknown']\n",
    "x = os_data_x[cols]\n",
    "y = os_data_y['deposit']"
   ]
  },
  {
   "cell_type": "code",
   "execution_count": 42,
   "id": "16cee4f7",
   "metadata": {
    "scrolled": true
   },
   "outputs": [
    {
     "name": "stdout",
     "output_type": "stream",
     "text": [
      "Optimization terminated successfully.\n",
      "         Current function value: 0.388677\n",
      "         Iterations 14\n",
      "                           Results: Logit\n",
      "=====================================================================\n",
      "Model:                 Logit             Pseudo R-squared:  0.439    \n",
      "Dependent Variable:    deposit           AIC:               6446.7563\n",
      "Date:                  2022-02-05 14:23  BIC:               6804.1258\n",
      "No. Observations:      8162              Log-Likelihood:    -3172.4  \n",
      "Df Model:              50                LL-Null:           -5657.5  \n",
      "Df Residuals:          8111              LLR p-value:       0.0000   \n",
      "Converged:             1.0000            Scale:             1.0000   \n",
      "No. Iterations:        14.0000                                       \n",
      "---------------------------------------------------------------------\n",
      "                     Coef.   Std.Err.    z    P>|z|   [0.025   0.975]\n",
      "---------------------------------------------------------------------\n",
      "age                   0.0025   0.0038  0.6592 0.5098  -0.0050  0.0100\n",
      "balance               0.0000   0.0000  3.3485 0.0008   0.0000  0.0001\n",
      "day                   0.0051   0.0043  1.2021 0.2293  -0.0032  0.0135\n",
      "duration              0.0055   0.0001 36.8292 0.0000   0.0052  0.0058\n",
      "campaign             -0.0942   0.0165 -5.7240 0.0000  -0.1265 -0.0619\n",
      "pdays                 0.0003   0.0005  0.6167 0.5374  -0.0007  0.0014\n",
      "previous              0.0261   0.0161  1.6199 0.1053  -0.0055  0.0577\n",
      "job_admin.          -10.8474   4.7260 -2.2953 0.0217 -20.1103 -1.5846\n",
      "job_blue-collar     -11.1285   4.7256 -2.3549 0.0185 -20.3905 -1.8664\n",
      "job_entrepreneur    -11.2776   4.7292 -2.3846 0.0171 -20.5467 -2.0084\n",
      "job_housemaid       -11.3860   4.7308 -2.4068 0.0161 -20.6581 -2.1139\n",
      "job_management      -11.1004   4.7267 -2.3485 0.0189 -20.3646 -1.8363\n",
      "job_retired         -10.5525   4.7278 -2.2320 0.0256 -19.8188 -1.2862\n",
      "job_self-employed   -11.3231   4.7259 -2.3960 0.0166 -20.5857 -2.0606\n",
      "job_services        -11.0937   4.7258 -2.3475 0.0189 -20.3561 -1.8313\n",
      "job_student         -10.3457   4.7296 -2.1874 0.0287 -19.6156 -1.0759\n",
      "job_technician      -10.9764   4.7262 -2.3225 0.0202 -20.2396 -1.7133\n",
      "job_unemployed      -10.9594   4.7290 -2.3175 0.0205 -20.2281 -1.6906\n",
      "job_unknown         -11.3778   4.7409 -2.3999 0.0164 -20.6699 -2.0858\n",
      "marital_divorced     -5.8992   3.5570 -1.6585 0.0972 -12.8709  1.0724\n",
      "marital_married      -6.1039   3.5556 -1.7167 0.0860 -13.0727  0.8650\n",
      "marital_single       -5.8699   3.5556 -1.6509 0.0988 -12.8387  1.0989\n",
      "education_primary    -1.8816   1.4163 -1.3285 0.1840  -4.6575  0.8944\n",
      "education_secondary  -1.5677   1.4137 -1.1090 0.2674  -4.3385  1.2030\n",
      "education_tertiary   -1.3223   1.4149 -0.9345 0.3500  -4.0955  1.4509\n",
      "education_unknown    -1.4894   1.4222 -1.0472 0.2950  -4.2768  1.2981\n",
      "default_no           15.3806   7.8558  1.9579 0.0502  -0.0165 30.7777\n",
      "default_yes          15.4640   7.8599  1.9674 0.0491   0.0588 30.8692\n",
      "housing_no            3.4718   3.7827  0.9178 0.3587  -3.9423 10.8858\n",
      "housing_yes           2.7033   3.7826  0.7147 0.4748  -4.7103 10.1170\n",
      "loan_no               0.8773   1.8617  0.4712 0.6375  -2.7716  4.5263\n",
      "loan_yes              0.3124   1.8643  0.1675 0.8669  -3.3417  3.9664\n",
      "contact_cellular      3.3304   2.5236  1.3197 0.1869  -1.6157  8.2765\n",
      "contact_telephone     3.2098   2.5274  1.2700 0.2041  -1.7438  8.1634\n",
      "contact_unknown       1.7268   2.5257  0.6837 0.4942  -3.2234  6.6771\n",
      "month_apr            -7.5122   3.9075 -1.9225 0.0545 -15.1708  0.1465\n",
      "month_aug            -8.3699   3.9072 -2.1422 0.0322 -16.0278 -0.7119\n",
      "month_dec            -6.5627   3.9278 -1.6709 0.0947 -14.2610  1.1355\n",
      "month_feb            -7.7914   3.9085 -1.9935 0.0462 -15.4519 -0.1310\n",
      "month_jan            -8.6729   3.9101 -2.2181 0.0265 -16.3365 -1.0093\n",
      "month_jul            -8.5400   3.9069 -2.1859 0.0288 -16.1974 -0.8827\n",
      "month_jun            -7.1547   3.9073 -1.8311 0.0671 -14.8128  0.5034\n",
      "month_mar            -5.5600   3.9132 -1.4208 0.1554 -13.2297  2.1097\n",
      "month_may            -8.0791   3.9063 -2.0682 0.0386 -15.7353 -0.4229\n",
      "month_nov            -8.4052   3.9076 -2.1510 0.0315 -16.0640 -0.7465\n",
      "month_oct            -6.1894   3.9104 -1.5828 0.1135 -13.8536  1.4749\n",
      "month_sep            -6.5469   3.9123 -1.6734 0.0942 -14.2148  1.1210\n",
      "poutcome_failure      1.9764   1.6200  1.2200 0.2225  -1.1988  5.1516\n",
      "poutcome_other        2.0774   1.6236  1.2795 0.2007  -1.1047  5.2596\n",
      "poutcome_success      4.2332   1.6251  2.6049 0.0092   1.0481  7.4182\n",
      "poutcome_unknown      1.8085   1.6233  1.1141 0.2653  -1.3731  4.9901\n",
      "=====================================================================\n",
      "\n"
     ]
    }
   ],
   "source": [
    "logit_model=sm.Logit(y,x)\n",
    "result=logit_model.fit()\n",
    "print(result.summary2())"
   ]
  },
  {
   "cell_type": "markdown",
   "id": "5308819c",
   "metadata": {},
   "source": [
    "* The p-values for most of the variables are smaller than 0.05, except some variables, therefore, we will remove them.\n",
    "* they are age, day, pdays, previous, marital_divorced,marital_married, marital_single, housing_yes, loan_no,loan_yes,month_dec,\n",
    "* month_jun,month_oct,month_sep,poutcome_failure, poutcome_other, poutcome_unknown"
   ]
  },
  {
   "cell_type": "code",
   "execution_count": 83,
   "id": "088788dd",
   "metadata": {},
   "outputs": [],
   "source": [
    "cols = ['balance', 'duration', 'campaign','job_admin.', 'job_blue-collar', 'job_entrepreneur',\n",
    "       'job_housemaid', 'job_management', 'job_retired', 'job_self-employed',\n",
    "       'job_services', 'job_student', 'job_technician', 'job_unemployed',\n",
    "       'job_unknown',\n",
    "       'education_primary', 'education_secondary', 'education_tertiary',\n",
    "       'education_unknown', 'default_no', 'default_yes', 'housing_no',\n",
    "     'contact_cellular',\n",
    "       'contact_telephone', 'contact_unknown', 'month_apr', 'month_aug', 'month_feb', 'month_jan', 'month_jul',\n",
    "       'month_mar', 'month_may', 'month_nov',\n",
    "        'poutcome_success']\n",
    "x = os_data_x[cols]\n",
    "y = os_data_y['deposit']"
   ]
  },
  {
   "cell_type": "code",
   "execution_count": 84,
   "id": "940ee491",
   "metadata": {
    "scrolled": false
   },
   "outputs": [
    {
     "name": "stdout",
     "output_type": "stream",
     "text": [
      "Optimization terminated successfully.\n",
      "         Current function value: 0.395818\n",
      "         Iterations 10\n",
      "                           Results: Logit\n",
      "====================================================================\n",
      "Model:                Logit             Pseudo R-squared:  0.429    \n",
      "Dependent Variable:   deposit           AIC:               6529.3320\n",
      "Date:                 2022-02-05 15:34  BIC:               6767.5783\n",
      "No. Observations:     8162              Log-Likelihood:    -3230.7  \n",
      "Df Model:             33                LL-Null:           -5657.5  \n",
      "Df Residuals:         8128              LLR p-value:       0.0000   \n",
      "Converged:            1.0000            Scale:             1.0000   \n",
      "No. Iterations:       10.0000                                       \n",
      "--------------------------------------------------------------------\n",
      "                     Coef.  Std.Err.    z     P>|z|   [0.025  0.975]\n",
      "--------------------------------------------------------------------\n",
      "balance              0.0000   0.0000   3.7367 0.0002  0.0000  0.0001\n",
      "duration             0.0055   0.0001  36.8348 0.0000  0.0052  0.0058\n",
      "campaign            -0.0996   0.0161  -6.1652 0.0000 -0.1312 -0.0679\n",
      "job_admin.          -4.2822   1.2414  -3.4494 0.0006 -6.7153 -1.8491\n",
      "job_blue-collar     -4.6116   1.2419  -3.7134 0.0002 -7.0457 -2.1775\n",
      "job_entrepreneur    -4.7994   1.2525  -3.8320 0.0001 -7.2542 -2.3446\n",
      "job_housemaid       -4.8121   1.2567  -3.8292 0.0001 -7.2751 -2.3491\n",
      "job_management      -4.5152   1.2404  -3.6400 0.0003 -6.9464 -2.0839\n",
      "job_retired         -3.9306   1.2451  -3.1569 0.0016 -6.3709 -1.4903\n",
      "job_self-employed   -4.7485   1.2438  -3.8179 0.0001 -7.1862 -2.3108\n",
      "job_services        -4.5662   1.2436  -3.6717 0.0002 -7.0036 -2.1288\n",
      "job_student         -3.6113   1.2517  -2.8852 0.0039 -6.0645 -1.1580\n",
      "job_technician      -4.3924   1.2406  -3.5404 0.0004 -6.8241 -1.9608\n",
      "job_unemployed      -4.3482   1.2512  -3.4752 0.0005 -6.8006 -1.8959\n",
      "job_unknown         -4.7481   1.2944  -3.6683 0.0002 -7.2850 -2.2112\n",
      "education_primary   -2.4901   0.8488  -2.9337 0.0033 -4.1537 -0.8265\n",
      "education_secondary -2.1505   0.8430  -2.5510 0.0107 -3.8028 -0.4983\n",
      "education_tertiary  -1.8752   0.8446  -2.2202 0.0264 -3.5305 -0.2198\n",
      "education_unknown   -2.0405   0.8563  -2.3828 0.0172 -3.7189 -0.3621\n",
      "default_no           5.1375   1.3380   3.8398 0.0001  2.5151  7.7599\n",
      "default_yes          5.1269   1.3622   3.7636 0.0002  2.4570  7.7968\n",
      "housing_no           0.7412   0.0722  10.2666 0.0000  0.5997  0.8827\n",
      "contact_cellular     0.4719   0.8800   0.5363 0.5918 -1.2528  2.1966\n",
      "contact_telephone    0.4007   0.8879   0.4514 0.6517 -1.3394  2.1409\n",
      "contact_unknown     -1.4259   0.8832  -1.6145 0.1064 -3.1569  0.3051\n",
      "month_apr           -0.7511   0.1314  -5.7185 0.0000 -1.0086 -0.4937\n",
      "month_aug           -1.6663   0.1206 -13.8195 0.0000 -1.9027 -1.4300\n",
      "month_feb           -1.0898   0.1393  -7.8253 0.0000 -1.3627 -0.8168\n",
      "month_jan           -1.8695   0.1891  -9.8851 0.0000 -2.2401 -1.4988\n",
      "month_jul           -1.9060   0.1249 -15.2597 0.0000 -2.1508 -1.6612\n",
      "month_mar            1.1399   0.2540   4.4882 0.0000  0.6421  1.6378\n",
      "month_may           -1.2488   0.1086 -11.5038 0.0000 -1.4615 -1.0360\n",
      "month_nov           -1.6872   0.1341 -12.5813 0.0000 -1.9500 -1.4243\n",
      "poutcome_success     2.4834   0.1452  17.1003 0.0000  2.1988  2.7680\n",
      "====================================================================\n",
      "\n"
     ]
    }
   ],
   "source": [
    "logit_model=sm.Logit(y,x)\n",
    "result=logit_model.fit()\n",
    "print(result.summary2())"
   ]
  },
  {
   "cell_type": "markdown",
   "id": "fb15b5e5",
   "metadata": {},
   "source": [
    "* again we will drop columns which have p values > 0.05 , they are contact_cellular , contact_telephone, contact_unknown"
   ]
  },
  {
   "cell_type": "code",
   "execution_count": 85,
   "id": "8d4b3388",
   "metadata": {},
   "outputs": [],
   "source": [
    "cols = ['balance', 'duration', 'campaign','job_admin.', 'job_blue-collar', 'job_entrepreneur',\n",
    "       'job_housemaid', 'job_management', 'job_retired', 'job_self-employed',\n",
    "       'job_services', 'job_student', 'job_technician', 'job_unemployed',\n",
    "       'job_unknown',\n",
    "       'education_primary', 'education_secondary', 'education_tertiary',\n",
    "       'education_unknown', 'default_no', 'default_yes', 'housing_no',\n",
    "         'month_apr', 'month_aug', 'month_feb', 'month_jan', 'month_jul',\n",
    "       'month_mar', 'month_may', 'month_nov',\n",
    "        'poutcome_success']\n",
    "x = os_data_x[cols]\n",
    "y = os_data_y['deposit']"
   ]
  },
  {
   "cell_type": "code",
   "execution_count": 86,
   "id": "391ebb17",
   "metadata": {
    "scrolled": true
   },
   "outputs": [
    {
     "name": "stdout",
     "output_type": "stream",
     "text": [
      "Optimization terminated successfully.\n",
      "         Current function value: 0.418271\n",
      "         Iterations 10\n",
      "                           Results: Logit\n",
      "====================================================================\n",
      "Model:                Logit             Pseudo R-squared:  0.397    \n",
      "Dependent Variable:   deposit           AIC:               6889.8567\n",
      "Date:                 2022-02-05 15:37  BIC:               7107.0813\n",
      "No. Observations:     8162              Log-Likelihood:    -3413.9  \n",
      "Df Model:             30                LL-Null:           -5657.5  \n",
      "Df Residuals:         8131              LLR p-value:       0.0000   \n",
      "Converged:            1.0000            Scale:             1.0000   \n",
      "No. Iterations:       10.0000                                       \n",
      "--------------------------------------------------------------------\n",
      "                     Coef.  Std.Err.    z     P>|z|   [0.025  0.975]\n",
      "--------------------------------------------------------------------\n",
      "balance              0.0000   0.0000   4.3912 0.0000  0.0000  0.0001\n",
      "duration             0.0054   0.0001  37.1249 0.0000  0.0051  0.0057\n",
      "campaign            -0.1181   0.0157  -7.5373 0.0000 -0.1488 -0.0874\n",
      "job_admin.          -4.3416   1.0623  -4.0869 0.0000 -6.4238 -2.2595\n",
      "job_blue-collar     -4.7923   1.0624  -4.5109 0.0000 -6.8745 -2.7101\n",
      "job_entrepreneur    -4.9497   1.0742  -4.6077 0.0000 -7.0552 -2.8442\n",
      "job_housemaid       -4.9956   1.0792  -4.6290 0.0000 -7.1107 -2.8804\n",
      "job_management      -4.6188   1.0614  -4.3517 0.0000 -6.6991 -2.5385\n",
      "job_retired         -3.9833   1.0659  -3.7371 0.0002 -6.0724 -1.8942\n",
      "job_self-employed   -4.9498   1.0656  -4.6452 0.0000 -7.0383 -2.8613\n",
      "job_services        -4.7034   1.0647  -4.4178 0.0000 -6.7901 -2.6167\n",
      "job_student         -3.4993   1.0739  -3.2587 0.0011 -5.6040 -1.3946\n",
      "job_technician      -4.5226   1.0613  -4.2613 0.0000 -6.6028 -2.4425\n",
      "job_unemployed      -4.4287   1.0734  -4.1258 0.0000 -6.5326 -2.3249\n",
      "job_unknown         -4.9205   1.1184  -4.3997 0.0000 -7.1125 -2.7285\n",
      "education_primary   -2.7965   0.7514  -3.7219 0.0002 -4.2691 -1.3239\n",
      "education_secondary -2.3772   0.7450  -3.1907 0.0014 -3.8375 -0.9170\n",
      "education_tertiary  -2.0317   0.7464  -2.7221 0.0065 -3.4945 -0.5689\n",
      "education_unknown   -2.2948   0.7590  -3.0233 0.0025 -3.7825 -0.8071\n",
      "default_no           5.1288   1.2216   4.1985 0.0000  2.7346  7.5231\n",
      "default_yes          4.9014   1.2460   3.9337 0.0001  2.4593  7.3435\n",
      "housing_no           0.8320   0.0702  11.8451 0.0000  0.6943  0.9696\n",
      "month_apr            0.0430   0.1198   0.3587 0.7198 -0.1919  0.2778\n",
      "month_aug           -0.9005   0.1069  -8.4218 0.0000 -1.1101 -0.6909\n",
      "month_feb           -0.3352   0.1294  -2.5906 0.0096 -0.5888 -0.0816\n",
      "month_jan           -1.1123   0.1822  -6.1057 0.0000 -1.4693 -0.7552\n",
      "month_jul           -1.1217   0.1115 -10.0599 0.0000 -1.3402 -0.9031\n",
      "month_mar            1.8651   0.2489   7.4940 0.0000  1.3773  2.3528\n",
      "month_may           -1.1282   0.0999 -11.2952 0.0000 -1.3240 -0.9324\n",
      "month_nov           -0.9382   0.1228  -7.6387 0.0000 -1.1789 -0.6975\n",
      "poutcome_success     2.7177   0.1424  19.0891 0.0000  2.4387  2.9968\n",
      "====================================================================\n",
      "\n"
     ]
    }
   ],
   "source": [
    "logit_model=sm.Logit(y,x)\n",
    "result=logit_model.fit()\n",
    "print(result.summary2())"
   ]
  },
  {
   "cell_type": "markdown",
   "id": "94dc9c00",
   "metadata": {},
   "source": [
    "* We will drop month_apr"
   ]
  },
  {
   "cell_type": "code",
   "execution_count": 87,
   "id": "3c0c1dd1",
   "metadata": {},
   "outputs": [],
   "source": [
    "cols = ['balance', 'duration', 'campaign','job_admin.', 'job_blue-collar', 'job_entrepreneur',\n",
    "       'job_housemaid', 'job_management', 'job_retired', 'job_self-employed',\n",
    "       'job_services', 'job_student', 'job_technician', 'job_unemployed',\n",
    "       'job_unknown',\n",
    "       'education_primary', 'education_secondary', 'education_tertiary',\n",
    "       'education_unknown', 'default_no', 'default_yes', 'housing_no',\n",
    "          'month_aug', 'month_feb', 'month_jan', 'month_jul',\n",
    "       'month_mar', 'month_may', 'month_nov',\n",
    "        'poutcome_success']\n",
    "x = os_data_x[cols]\n",
    "y = os_data_y['deposit']"
   ]
  },
  {
   "cell_type": "code",
   "execution_count": 88,
   "id": "44d41eef",
   "metadata": {
    "scrolled": false
   },
   "outputs": [
    {
     "name": "stdout",
     "output_type": "stream",
     "text": [
      "Optimization terminated successfully.\n",
      "         Current function value: 0.418279\n",
      "         Iterations 10\n",
      "                           Results: Logit\n",
      "====================================================================\n",
      "Model:                Logit             Pseudo R-squared:  0.397    \n",
      "Dependent Variable:   deposit           AIC:               6887.9855\n",
      "Date:                 2022-02-05 15:39  BIC:               7098.2028\n",
      "No. Observations:     8162              Log-Likelihood:    -3414.0  \n",
      "Df Model:             29                LL-Null:           -5657.5  \n",
      "Df Residuals:         8132              LLR p-value:       0.0000   \n",
      "Converged:            1.0000            Scale:             1.0000   \n",
      "No. Iterations:       10.0000                                       \n",
      "--------------------------------------------------------------------\n",
      "                     Coef.  Std.Err.    z     P>|z|   [0.025  0.975]\n",
      "--------------------------------------------------------------------\n",
      "balance              0.0000   0.0000   4.3896 0.0000  0.0000  0.0001\n",
      "duration             0.0054   0.0001  37.1496 0.0000  0.0051  0.0057\n",
      "campaign            -0.1183   0.0157  -7.5577 0.0000 -0.1490 -0.0877\n",
      "job_admin.          -4.3344   1.0628  -4.0783 0.0000 -6.4174 -2.2513\n",
      "job_blue-collar     -4.7842   1.0628  -4.5015 0.0000 -6.8673 -2.7012\n",
      "job_entrepreneur    -4.9431   1.0747  -4.5994 0.0000 -7.0496 -2.8367\n",
      "job_housemaid       -4.9888   1.0797  -4.6206 0.0000 -7.1049 -2.8727\n",
      "job_management      -4.6119   1.0619  -4.3432 0.0000 -6.6931 -2.5307\n",
      "job_retired         -3.9754   1.0663  -3.7282 0.0002 -6.0653 -1.8855\n",
      "job_self-employed   -4.9422   1.0660  -4.6363 0.0000 -7.0315 -2.8529\n",
      "job_services        -4.6965   1.0651  -4.4093 0.0000 -6.7841 -2.6088\n",
      "job_student         -3.4918   1.0743  -3.2503 0.0012 -5.5974 -1.3862\n",
      "job_technician      -4.5155   1.0618  -4.2527 0.0000 -6.5966 -2.4344\n",
      "job_unemployed      -4.4202   1.0738  -4.1164 0.0000 -6.5248 -2.3156\n",
      "job_unknown         -4.9130   1.1188  -4.3914 0.0000 -7.1058 -2.7202\n",
      "education_primary   -2.7892   0.7522  -3.7083 0.0002 -4.2635 -1.3150\n",
      "education_secondary -2.3689   0.7458  -3.1764 0.0015 -3.8305 -0.9072\n",
      "education_tertiary  -2.0229   0.7470  -2.7079 0.0068 -3.4871 -0.5587\n",
      "education_unknown   -2.2857   0.7597  -3.0088 0.0026 -3.7747 -0.7968\n",
      "default_no           5.1286   1.2222   4.1962 0.0000  2.7331  7.5241\n",
      "default_yes          4.8996   1.2466   3.9304 0.0001  2.4563  7.3429\n",
      "housing_no           0.8295   0.0699  11.8675 0.0000  0.6925  0.9665\n",
      "month_aug           -0.9137   0.1005  -9.0931 0.0000 -1.1106 -0.7167\n",
      "month_feb           -0.3489   0.1236  -2.8226 0.0048 -0.5912 -0.1066\n",
      "month_jan           -1.1258   0.1782  -6.3169 0.0000 -1.4751 -0.7765\n",
      "month_jul           -1.1356   0.1046 -10.8593 0.0000 -1.3405 -0.9306\n",
      "month_mar            1.8515   0.2460   7.5264 0.0000  1.3694  2.3337\n",
      "month_may           -1.1433   0.0906 -12.6198 0.0000 -1.3209 -0.9657\n",
      "month_nov           -0.9522   0.1164  -8.1790 0.0000 -1.1804 -0.7241\n",
      "poutcome_success     2.7161   0.1423  19.0858 0.0000  2.4372  2.9950\n",
      "====================================================================\n",
      "\n"
     ]
    }
   ],
   "source": [
    "logit_model=sm.Logit(y,x)\n",
    "result=logit_model.fit()\n",
    "print(result.summary2())"
   ]
  },
  {
   "cell_type": "markdown",
   "id": "8f035046",
   "metadata": {},
   "source": [
    "## MODEL 1 ( using 'liblinear' solver[default])"
   ]
  },
  {
   "cell_type": "code",
   "execution_count": 89,
   "id": "67966a5e",
   "metadata": {},
   "outputs": [
    {
     "data": {
      "text/plain": [
       "LogisticRegression()"
      ]
     },
     "execution_count": 89,
     "metadata": {},
     "output_type": "execute_result"
    }
   ],
   "source": [
    "x_train, x_test, y_train, y_test = train_test_split(x, y, test_size=0.3, random_state=0)\n",
    "logreg = LogisticRegression()\n",
    "logreg.fit(x_train, y_train)"
   ]
  },
  {
   "cell_type": "code",
   "execution_count": 90,
   "id": "ce753e94",
   "metadata": {},
   "outputs": [
    {
     "name": "stdout",
     "output_type": "stream",
     "text": [
      "Accuracy of logistic regression classifier on test set: 0.81\n"
     ]
    }
   ],
   "source": [
    "y_pred = logreg.predict(x_test)\n",
    "print('Accuracy of logistic regression classifier on test set: {:.2f}'.format(logreg.score(x_test, y_test)))"
   ]
  },
  {
   "cell_type": "code",
   "execution_count": 91,
   "id": "bea5d456",
   "metadata": {},
   "outputs": [
    {
     "name": "stdout",
     "output_type": "stream",
     "text": [
      "[[1065  206]\n",
      " [ 248  930]]\n"
     ]
    }
   ],
   "source": [
    "from sklearn.metrics import confusion_matrix\n",
    "confusion_matrix = confusion_matrix(y_test, y_pred)\n",
    "print(confusion_matrix)"
   ]
  },
  {
   "cell_type": "code",
   "execution_count": 92,
   "id": "069262f2",
   "metadata": {},
   "outputs": [
    {
     "name": "stdout",
     "output_type": "stream",
     "text": [
      "              precision    recall  f1-score   support\n",
      "\n",
      "           0       0.81      0.84      0.82      1271\n",
      "           1       0.82      0.79      0.80      1178\n",
      "\n",
      "    accuracy                           0.81      2449\n",
      "   macro avg       0.81      0.81      0.81      2449\n",
      "weighted avg       0.81      0.81      0.81      2449\n",
      "\n"
     ]
    }
   ],
   "source": [
    "print(classification_report(y_test, y_pred))"
   ]
  },
  {
   "cell_type": "code",
   "execution_count": 93,
   "id": "51a53c80",
   "metadata": {
    "scrolled": true
   },
   "outputs": [
    {
     "data": {
      "image/png": "[encoded data removed]",
      "text/plain": [
       "<Figure size 432x288 with 1 Axes>"
      ]
     },
     "metadata": {},
     "output_type": "display_data"
    }
   ],
   "source": [
    "logit_roc_auc = roc_auc_score(y_test, logreg.predict(x_test))\n",
    "fpr, tpr, thresholds = roc_curve(y_test, logreg.predict_proba(x_test)[:,1])\n",
    "plt.figure()\n",
    "plt.plot(fpr, tpr, label='Logistic Regression (area = %0.2f)' % logit_roc_auc)\n",
    "plt.plot([0, 1], [0, 1],'r--')\n",
    "plt.xlim([0.0, 1.0])\n",
    "plt.ylim([0.0, 1.05])\n",
    "plt.xlabel('False Positive Rate')\n",
    "plt.ylabel('True Positive Rate')\n",
    "plt.title('Receiver operating characteristic')\n",
    "plt.legend(loc=\"lower right\")\n",
    "plt.savefig('Log_ROC')\n",
    "plt.show()"
   ]
  },
  {
   "cell_type": "markdown",
   "id": "c576f6fc",
   "metadata": {},
   "source": [
    "### MODEL 2 : Using Newtons - cg solver"
   ]
  },
  {
   "cell_type": "code",
   "execution_count": 94,
   "id": "2d646067",
   "metadata": {},
   "outputs": [
    {
     "data": {
      "text/plain": [
       "LogisticRegression(random_state=0, solver='newton-cg')"
      ]
     },
     "execution_count": 94,
     "metadata": {},
     "output_type": "execute_result"
    }
   ],
   "source": [
    "x_train, x_test, y_train, y_test = train_test_split(x, y, test_size=0.3, random_state=0)\n",
    "logreg = LogisticRegression(solver = 'newton-cg', random_state=0)\n",
    "logreg.fit(x_train, y_train)"
   ]
  },
  {
   "cell_type": "code",
   "execution_count": 95,
   "id": "6482eb4e",
   "metadata": {},
   "outputs": [
    {
     "name": "stdout",
     "output_type": "stream",
     "text": [
      "Accuracy of logistic regression classifier using newton-cg solver  on test set: 0.81\n"
     ]
    }
   ],
   "source": [
    "y_pred = logreg.predict(x_test)\n",
    "print('Accuracy of logistic regression classifier using newton-cg solver  on test set: {:.2f}'.format(logreg.score(x_test, y_test)))"
   ]
  },
  {
   "cell_type": "code",
   "execution_count": 97,
   "id": "358561b3",
   "metadata": {},
   "outputs": [
    {
     "name": "stdout",
     "output_type": "stream",
     "text": [
      "[[1059  212]\n",
      " [ 245  933]]\n"
     ]
    }
   ],
   "source": [
    "from sklearn.metrics import confusion_matrix\n",
    "confusion_matrix = confusion_matrix(y_test, y_pred)\n",
    "print(confusion_matrix)"
   ]
  },
  {
   "cell_type": "code",
   "execution_count": 98,
   "id": "bf0a7238",
   "metadata": {},
   "outputs": [
    {
     "name": "stdout",
     "output_type": "stream",
     "text": [
      "              precision    recall  f1-score   support\n",
      "\n",
      "           0       0.81      0.83      0.82      1271\n",
      "           1       0.81      0.79      0.80      1178\n",
      "\n",
      "    accuracy                           0.81      2449\n",
      "   macro avg       0.81      0.81      0.81      2449\n",
      "weighted avg       0.81      0.81      0.81      2449\n",
      "\n"
     ]
    }
   ],
   "source": [
    "print(classification_report(y_test, y_pred))"
   ]
  },
  {
   "cell_type": "code",
   "execution_count": 99,
   "id": "710e1c1a",
   "metadata": {},
   "outputs": [
    {
     "data": {
      "image/png": "[encoded data removed]",
      "text/plain": [
       "<Figure size 432x288 with 1 Axes>"
      ]
     },
     "metadata": {},
     "output_type": "display_data"
    }
   ],
   "source": [
    "logit_roc_auc = roc_auc_score(y_test, logreg.predict(x_test))\n",
    "fpr, tpr, thresholds = roc_curve(y_test, logreg.predict_proba(x_test)[:,1])\n",
    "plt.figure()\n",
    "plt.plot(fpr, tpr, label='Logistic Regression (area = %0.2f)' % logit_roc_auc)\n",
    "plt.plot([0, 1], [0, 1],'r--')\n",
    "plt.xlim([0.0, 1.0])\n",
    "plt.ylim([0.0, 1.05])\n",
    "plt.xlabel('False Positive Rate')\n",
    "plt.ylabel('True Positive Rate')\n",
    "plt.title('Receiver operating characteristic')\n",
    "plt.legend(loc=\"lower right\")\n",
    "plt.savefig('Log_ROC')\n",
    "plt.show()"
   ]
  },
  {
   "cell_type": "markdown",
   "id": "2dfe402d",
   "metadata": {},
   "source": [
    "### Model 3 (using 'saga' solver)"
   ]
  },
  {
   "cell_type": "code",
   "execution_count": 100,
   "id": "8e0c395d",
   "metadata": {},
   "outputs": [
    {
     "data": {
      "text/plain": [
       "LogisticRegression(random_state=0, solver='saga')"
      ]
     },
     "execution_count": 100,
     "metadata": {},
     "output_type": "execute_result"
    }
   ],
   "source": [
    "x_train, x_test, y_train, y_test = train_test_split(x, y, test_size=0.3, random_state=0)\n",
    "logreg = LogisticRegression(solver = 'saga', random_state=0)\n",
    "logreg.fit(x_train, y_train)"
   ]
  },
  {
   "cell_type": "code",
   "execution_count": null,
   "id": "e5a498f5",
   "metadata": {},
   "outputs": [],
   "source": []
  },
  {
   "cell_type": "code",
   "execution_count": 101,
   "id": "d1fb3b36",
   "metadata": {},
   "outputs": [
    {
     "name": "stdout",
     "output_type": "stream",
     "text": [
      "Accuracy of logistic regression classifier using saga solver on test set: 0.50\n"
     ]
    }
   ],
   "source": [
    "y_pred = logreg.predict(x_test)\n",
    "print('Accuracy of logistic regression classifier using saga solver on test set: {:.2f}'.format(logreg.score(x_test, y_test)))"
   ]
  },
  {
   "cell_type": "code",
   "execution_count": 102,
   "id": "43210f8b",
   "metadata": {},
   "outputs": [
    {
     "name": "stdout",
     "output_type": "stream",
     "text": [
      "confusion matrix\n",
      " [[  70 1201]\n",
      " [  25 1153]]\n"
     ]
    }
   ],
   "source": [
    "from sklearn.metrics import confusion_matrix\n",
    "confusion_matrix = confusion_matrix(y_test, y_pred)\n",
    "print('confusion matrix\\n',confusion_matrix)"
   ]
  },
  {
   "cell_type": "code",
   "execution_count": 103,
   "id": "91c6b46f",
   "metadata": {},
   "outputs": [
    {
     "name": "stdout",
     "output_type": "stream",
     "text": [
      "              precision    recall  f1-score   support\n",
      "\n",
      "           0       0.74      0.06      0.10      1271\n",
      "           1       0.49      0.98      0.65      1178\n",
      "\n",
      "    accuracy                           0.50      2449\n",
      "   macro avg       0.61      0.52      0.38      2449\n",
      "weighted avg       0.62      0.50      0.37      2449\n",
      "\n"
     ]
    }
   ],
   "source": [
    "print(classification_report(y_test, y_pred))"
   ]
  },
  {
   "cell_type": "code",
   "execution_count": 104,
   "id": "2930ec19",
   "metadata": {},
   "outputs": [
    {
     "data": {
      "image/png": "[encoded data removed]",
      "text/plain": [
       "<Figure size 432x288 with 1 Axes>"
      ]
     },
     "metadata": {},
     "output_type": "display_data"
    }
   ],
   "source": [
    "logit_roc_auc = roc_auc_score(y_test, logreg.predict(x_test))\n",
    "fpr, tpr, thresholds = roc_curve(y_test, logreg.predict_proba(x_test)[:,1])\n",
    "plt.figure()\n",
    "plt.plot(fpr, tpr, label='Logistic Regression (area = %0.2f)' % logit_roc_auc)\n",
    "plt.plot([0, 1], [0, 1],'r--')\n",
    "plt.xlim([0.0, 1.0])\n",
    "plt.ylim([0.0, 1.05])\n",
    "plt.xlabel('False Positive Rate')\n",
    "plt.ylabel('True Positive Rate')\n",
    "plt.title('Receiver operating characteristic')\n",
    "plt.legend(loc=\"lower right\")\n",
    "plt.savefig('Log_ROC')\n",
    "plt.show()"
   ]
  },
  {
   "cell_type": "markdown",
   "id": "3ad3992c",
   "metadata": {},
   "source": [
    "### Model 4. (using 'sag' solver)"
   ]
  },
  {
   "cell_type": "code",
   "execution_count": 105,
   "id": "e95ad39c",
   "metadata": {},
   "outputs": [
    {
     "data": {
      "text/plain": [
       "LogisticRegression(random_state=0, solver='sag')"
      ]
     },
     "execution_count": 105,
     "metadata": {},
     "output_type": "execute_result"
    }
   ],
   "source": [
    "x_train, x_test, y_train, y_test = train_test_split(x, y, test_size=0.3, random_state=0)\n",
    "logreg = LogisticRegression(solver = 'sag', random_state=0)\n",
    "logreg.fit(x_train, y_train)"
   ]
  },
  {
   "cell_type": "code",
   "execution_count": 106,
   "id": "8b4dfc8e",
   "metadata": {},
   "outputs": [
    {
     "name": "stdout",
     "output_type": "stream",
     "text": [
      "Accuracy of logistic regression classifier using sag solver on test set: 0.50\n"
     ]
    }
   ],
   "source": [
    "y_pred = logreg.predict(x_test)\n",
    "print('Accuracy of logistic regression classifier using sag solver on test set: {:.2f}'.format(logreg.score(x_test, y_test)))"
   ]
  },
  {
   "cell_type": "code",
   "execution_count": 107,
   "id": "078701e1",
   "metadata": {},
   "outputs": [
    {
     "name": "stdout",
     "output_type": "stream",
     "text": [
      "confusion matrix\n",
      " [[  71 1200]\n",
      " [  25 1153]]\n"
     ]
    }
   ],
   "source": [
    "from sklearn.metrics import confusion_matrix\n",
    "confusion_matrix = confusion_matrix(y_test, y_pred)\n",
    "print('confusion matrix\\n',confusion_matrix)"
   ]
  },
  {
   "cell_type": "code",
   "execution_count": 108,
   "id": "086fd52d",
   "metadata": {},
   "outputs": [
    {
     "name": "stdout",
     "output_type": "stream",
     "text": [
      "              precision    recall  f1-score   support\n",
      "\n",
      "           0       0.74      0.06      0.10      1271\n",
      "           1       0.49      0.98      0.65      1178\n",
      "\n",
      "    accuracy                           0.50      2449\n",
      "   macro avg       0.61      0.52      0.38      2449\n",
      "weighted avg       0.62      0.50      0.37      2449\n",
      "\n"
     ]
    }
   ],
   "source": [
    "print(classification_report(y_test, y_pred))"
   ]
  },
  {
   "cell_type": "code",
   "execution_count": 109,
   "id": "6c2c715e",
   "metadata": {},
   "outputs": [
    {
     "data": {
      "image/png": "[encoded data removed]",
      "text/plain": [
       "<Figure size 432x288 with 1 Axes>"
      ]
     },
     "metadata": {},
     "output_type": "display_data"
    }
   ],
   "source": [
    "logit_roc_auc = roc_auc_score(y_test, logreg.predict(x_test))\n",
    "fpr, tpr, thresholds = roc_curve(y_test, logreg.predict_proba(x_test)[:,1])\n",
    "plt.figure()\n",
    "plt.plot(fpr, tpr, label='Logistic Regression (area = %0.2f)' % logit_roc_auc)\n",
    "plt.plot([0, 1], [0, 1],'r--')\n",
    "plt.xlim([0.0, 1.0])\n",
    "plt.ylim([0.0, 1.05])\n",
    "plt.xlabel('False Positive Rate')\n",
    "plt.ylabel('True Positive Rate')\n",
    "plt.title('Receiver operating characteristic')\n",
    "plt.legend(loc=\"lower right\")\n",
    "plt.savefig('Log_ROC')\n",
    "plt.show()"
   ]
  },
  {
   "cell_type": "markdown",
   "id": "c46bbd1b",
   "metadata": {},
   "source": [
    "* Conclusion"
   ]
  },
  {
   "cell_type": "markdown",
   "id": "4ae196f1",
   "metadata": {},
   "source": [
    "### So the winner model is model 1 using liblinear solver"
   ]
  },
  {
   "cell_type": "code",
   "execution_count": null,
   "id": "979040bc",
   "metadata": {},
   "outputs": [],
   "source": []
  }
 ],
 "metadata": {
  "kernelspec": {
   "display_name": "Python 3",
   "language": "python",
   "name": "python3"
  },
  "language_info": {
   "codemirror_mode": {
    "name": "ipython",
    "version": 3
   },
   "file_extension": ".py",
   "mimetype": "text/x-python",
   "name": "python",
   "nbconvert_exporter": "python",
   "pygments_lexer": "ipython3",
   "version": "3.8.8"
  }
 },
 "nbformat": 4,
 "nbformat_minor": 5
}
